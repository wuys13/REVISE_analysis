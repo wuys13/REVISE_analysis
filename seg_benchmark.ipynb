{
 "cells": [
  {
   "cell_type": "markdown",
   "metadata": {},
   "source": [
    "## VisiumHD minor CF: bin2cell mismatch"
   ]
  },
  {
   "cell_type": "markdown",
   "metadata": {},
   "source": [
    "### computer bin2cell"
   ]
  },
  {
   "cell_type": "code",
   "execution_count": 67,
   "metadata": {},
   "outputs": [
    {
     "name": "stderr",
     "output_type": "stream",
     "text": [
      "Spot size:   0%|          | 0/4 [00:00<?, ?it/s]\n",
      "\u001b[A/home/wys/miniconda3/envs/python3.10/lib/python3.10/site-packages/scanpy/preprocessing/_normalization.py:208: UserWarning: Received a view of an AnnData. Making a copy.\n",
      "  view_to_actual(adata)\n",
      "/home/wys/miniconda3/envs/python3.10/lib/python3.10/site-packages/scanpy/preprocessing/_normalization.py:208: UserWarning: Received a view of an AnnData. Making a copy.\n",
      "  view_to_actual(adata)\n",
      "\n",
      "\u001b[A"
     ]
    },
    {
     "name": "stdout",
     "output_type": "stream",
     "text": [
      "PCC: 0.7379, 0.9502, 0.6395\n",
      "SSIM: 0.8202, 0.9989, 0.4323\n",
      "MSE: 0.0029, 0.0125, 0.0001\n",
      "NRMSE: 5.8224, 58.6055, 0.5758\n"
     ]
    },
    {
     "name": "stderr",
     "output_type": "stream",
     "text": [
      "/home/wys/miniconda3/envs/python3.10/lib/python3.10/site-packages/scanpy/preprocessing/_normalization.py:208: UserWarning: Received a view of an AnnData. Making a copy.\n",
      "  view_to_actual(adata)\n",
      "/home/wys/miniconda3/envs/python3.10/lib/python3.10/site-packages/scanpy/preprocessing/_normalization.py:208: UserWarning: Received a view of an AnnData. Making a copy.\n",
      "  view_to_actual(adata)\n",
      "/mnt/shared/wys/Sim2Real-ST/REVISE/revise/metrics.py:81: ConstantInputWarning: An input array is constant; the correlation coefficient is not defined.\n",
      "  pcc, _ = pearsonr(orig_expr, noisy_expr)\n",
      "/mnt/shared/wys/Sim2Real-ST/REVISE/revise/metrics.py:102: RuntimeWarning: invalid value encountered in scalar divide\n",
      "  nrmse = np.sqrt(mse) / np.mean(orig_expr)\n",
      "\n",
      "Iteration: 100%|██████████| 2/2 [00:15<00:00,  7.67s/it]\n"
     ]
    },
    {
     "name": "stdout",
     "output_type": "stream",
     "text": [
      "PCC: 0.8019, 1.0000, 0.5086\n",
      "SSIM: 0.9113, 1.0000, 0.5821\n",
      "MSE: 0.0023, 0.0258, 0.0000\n",
      "NRMSE: 16.9761, 162.1746, 0.0000\n"
     ]
    },
    {
     "name": "stderr",
     "output_type": "stream",
     "text": [
      "\n",
      "\u001b[A/home/wys/miniconda3/envs/python3.10/lib/python3.10/site-packages/scanpy/preprocessing/_normalization.py:208: UserWarning: Received a view of an AnnData. Making a copy.\n",
      "  view_to_actual(adata)\n",
      "/home/wys/miniconda3/envs/python3.10/lib/python3.10/site-packages/scanpy/preprocessing/_normalization.py:208: UserWarning: Received a view of an AnnData. Making a copy.\n",
      "  view_to_actual(adata)\n",
      "\n",
      "\u001b[A"
     ]
    },
    {
     "name": "stdout",
     "output_type": "stream",
     "text": [
      "PCC: 0.7413, 0.9440, 0.5399\n",
      "SSIM: 0.8056, 0.9980, 0.5043\n",
      "MSE: 0.0034, 0.0256, 0.0001\n",
      "NRMSE: 5.4341, 77.6119, 0.2454\n"
     ]
    },
    {
     "name": "stderr",
     "output_type": "stream",
     "text": [
      "/home/wys/miniconda3/envs/python3.10/lib/python3.10/site-packages/scanpy/preprocessing/_normalization.py:208: UserWarning: Received a view of an AnnData. Making a copy.\n",
      "  view_to_actual(adata)\n",
      "/home/wys/miniconda3/envs/python3.10/lib/python3.10/site-packages/scanpy/preprocessing/_normalization.py:208: UserWarning: Received a view of an AnnData. Making a copy.\n",
      "  view_to_actual(adata)\n",
      "/mnt/shared/wys/Sim2Real-ST/REVISE/revise/metrics.py:81: ConstantInputWarning: An input array is constant; the correlation coefficient is not defined.\n",
      "  pcc, _ = pearsonr(orig_expr, noisy_expr)\n",
      "/mnt/shared/wys/Sim2Real-ST/REVISE/revise/metrics.py:102: RuntimeWarning: invalid value encountered in scalar divide\n",
      "  nrmse = np.sqrt(mse) / np.mean(orig_expr)\n",
      "\n",
      "Iteration: 100%|██████████| 2/2 [00:11<00:00,  5.78s/it]\n"
     ]
    },
    {
     "name": "stdout",
     "output_type": "stream",
     "text": [
      "PCC: 0.8016, 0.9791, 0.5004\n",
      "SSIM: 0.8918, 1.0000, 0.4916\n",
      "MSE: 0.0032, 0.0304, 0.0000\n",
      "NRMSE: 10.3506, 174.6498, 0.1138\n"
     ]
    },
    {
     "name": "stderr",
     "output_type": "stream",
     "text": [
      "\n",
      "\u001b[A/home/wys/miniconda3/envs/python3.10/lib/python3.10/site-packages/scanpy/preprocessing/_normalization.py:208: UserWarning: Received a view of an AnnData. Making a copy.\n",
      "  view_to_actual(adata)\n",
      "/home/wys/miniconda3/envs/python3.10/lib/python3.10/site-packages/scanpy/preprocessing/_normalization.py:208: UserWarning: Received a view of an AnnData. Making a copy.\n",
      "  view_to_actual(adata)\n",
      "\n",
      "\u001b[A"
     ]
    },
    {
     "name": "stdout",
     "output_type": "stream",
     "text": [
      "PCC: 0.7207, 0.9131, 0.6186\n",
      "SSIM: 0.8161, 0.9967, 0.4761\n",
      "MSE: 0.0028, 0.0258, 0.0001\n",
      "NRMSE: 6.4621, 76.5536, 0.4179\n"
     ]
    },
    {
     "name": "stderr",
     "output_type": "stream",
     "text": [
      "/home/wys/miniconda3/envs/python3.10/lib/python3.10/site-packages/scanpy/preprocessing/_normalization.py:208: UserWarning: Received a view of an AnnData. Making a copy.\n",
      "  view_to_actual(adata)\n",
      "/home/wys/miniconda3/envs/python3.10/lib/python3.10/site-packages/scanpy/preprocessing/_normalization.py:208: UserWarning: Received a view of an AnnData. Making a copy.\n",
      "  view_to_actual(adata)\n",
      "/mnt/shared/wys/Sim2Real-ST/REVISE/revise/metrics.py:81: ConstantInputWarning: An input array is constant; the correlation coefficient is not defined.\n",
      "  pcc, _ = pearsonr(orig_expr, noisy_expr)\n",
      "/mnt/shared/wys/Sim2Real-ST/REVISE/revise/metrics.py:102: RuntimeWarning: invalid value encountered in scalar divide\n",
      "  nrmse = np.sqrt(mse) / np.mean(orig_expr)\n",
      "\n",
      "Iteration: 100%|██████████| 2/2 [00:20<00:00, 10.22s/it]\n",
      "Part: 100%|██████████| 3/3 [00:47<00:00, 15.78s/it]\n",
      "Spot size:  25%|██▌       | 1/4 [00:47<02:22, 47.34s/it]"
     ]
    },
    {
     "name": "stdout",
     "output_type": "stream",
     "text": [
      "PCC: 0.7743, 1.0000, 0.4810\n",
      "SSIM: 0.8924, 1.0000, 0.4759\n",
      "MSE: 0.0031, 0.0587, 0.0000\n",
      "NRMSE: 20.1134, 269.7266, 0.0000\n"
     ]
    },
    {
     "name": "stderr",
     "output_type": "stream",
     "text": [
      "\n",
      "\u001b[A/home/wys/miniconda3/envs/python3.10/lib/python3.10/site-packages/scanpy/preprocessing/_normalization.py:208: UserWarning: Received a view of an AnnData. Making a copy.\n",
      "  view_to_actual(adata)\n",
      "/home/wys/miniconda3/envs/python3.10/lib/python3.10/site-packages/scanpy/preprocessing/_normalization.py:208: UserWarning: Received a view of an AnnData. Making a copy.\n",
      "  view_to_actual(adata)\n",
      "\n",
      "\u001b[A"
     ]
    },
    {
     "name": "stdout",
     "output_type": "stream",
     "text": [
      "PCC: 0.6966, 0.9482, 0.5575\n",
      "SSIM: 0.7919, 0.9975, 0.4060\n",
      "MSE: 0.0033, 0.0143, 0.0001\n",
      "NRMSE: 6.1657, 58.1370, 0.5903\n"
     ]
    },
    {
     "name": "stderr",
     "output_type": "stream",
     "text": [
      "/home/wys/miniconda3/envs/python3.10/lib/python3.10/site-packages/scanpy/preprocessing/_normalization.py:208: UserWarning: Received a view of an AnnData. Making a copy.\n",
      "  view_to_actual(adata)\n",
      "/home/wys/miniconda3/envs/python3.10/lib/python3.10/site-packages/scanpy/preprocessing/_normalization.py:208: UserWarning: Received a view of an AnnData. Making a copy.\n",
      "  view_to_actual(adata)\n",
      "/mnt/shared/wys/Sim2Real-ST/REVISE/revise/metrics.py:81: ConstantInputWarning: An input array is constant; the correlation coefficient is not defined.\n",
      "  pcc, _ = pearsonr(orig_expr, noisy_expr)\n",
      "/mnt/shared/wys/Sim2Real-ST/REVISE/revise/metrics.py:102: RuntimeWarning: invalid value encountered in scalar divide\n",
      "  nrmse = np.sqrt(mse) / np.mean(orig_expr)\n",
      "\n",
      "Iteration: 100%|██████████| 2/2 [00:10<00:00,  5.50s/it]\n"
     ]
    },
    {
     "name": "stdout",
     "output_type": "stream",
     "text": [
      "PCC: 0.7865, 0.9999, 0.4857\n",
      "SSIM: 0.9007, 1.0000, 0.5553\n",
      "MSE: 0.0025, 0.0274, 0.0000\n",
      "NRMSE: 17.9988, 180.8701, 0.2042\n"
     ]
    },
    {
     "name": "stderr",
     "output_type": "stream",
     "text": [
      "\n",
      "\u001b[A/home/wys/miniconda3/envs/python3.10/lib/python3.10/site-packages/scanpy/preprocessing/_normalization.py:208: UserWarning: Received a view of an AnnData. Making a copy.\n",
      "  view_to_actual(adata)\n",
      "/home/wys/miniconda3/envs/python3.10/lib/python3.10/site-packages/scanpy/preprocessing/_normalization.py:208: UserWarning: Received a view of an AnnData. Making a copy.\n",
      "  view_to_actual(adata)\n",
      "\n",
      "\u001b[A"
     ]
    },
    {
     "name": "stdout",
     "output_type": "stream",
     "text": [
      "PCC: 0.7011, 0.9401, 0.4973\n",
      "SSIM: 0.7729, 0.9981, 0.4617\n",
      "MSE: 0.0039, 0.0346, 0.0001\n",
      "NRMSE: 5.6795, 73.2193, 0.2631\n"
     ]
    },
    {
     "name": "stderr",
     "output_type": "stream",
     "text": [
      "/home/wys/miniconda3/envs/python3.10/lib/python3.10/site-packages/scanpy/preprocessing/_normalization.py:208: UserWarning: Received a view of an AnnData. Making a copy.\n",
      "  view_to_actual(adata)\n",
      "/home/wys/miniconda3/envs/python3.10/lib/python3.10/site-packages/scanpy/preprocessing/_normalization.py:208: UserWarning: Received a view of an AnnData. Making a copy.\n",
      "  view_to_actual(adata)\n",
      "/mnt/shared/wys/Sim2Real-ST/REVISE/revise/metrics.py:81: ConstantInputWarning: An input array is constant; the correlation coefficient is not defined.\n",
      "  pcc, _ = pearsonr(orig_expr, noisy_expr)\n",
      "/mnt/shared/wys/Sim2Real-ST/REVISE/revise/metrics.py:102: RuntimeWarning: invalid value encountered in scalar divide\n",
      "  nrmse = np.sqrt(mse) / np.mean(orig_expr)\n",
      "\n",
      "Iteration: 100%|██████████| 2/2 [00:09<00:00,  4.77s/it]\n"
     ]
    },
    {
     "name": "stdout",
     "output_type": "stream",
     "text": [
      "PCC: 0.7798, 0.9744, 0.5456\n",
      "SSIM: 0.8768, 1.0000, 0.4278\n",
      "MSE: 0.0036, 0.0360, 0.0000\n",
      "NRMSE: 10.7417, 174.6498, 0.1221\n"
     ]
    },
    {
     "name": "stderr",
     "output_type": "stream",
     "text": [
      "\n",
      "\u001b[A/home/wys/miniconda3/envs/python3.10/lib/python3.10/site-packages/scanpy/preprocessing/_normalization.py:208: UserWarning: Received a view of an AnnData. Making a copy.\n",
      "  view_to_actual(adata)\n",
      "/home/wys/miniconda3/envs/python3.10/lib/python3.10/site-packages/scanpy/preprocessing/_normalization.py:208: UserWarning: Received a view of an AnnData. Making a copy.\n",
      "  view_to_actual(adata)\n",
      "\n",
      "\u001b[A"
     ]
    },
    {
     "name": "stdout",
     "output_type": "stream",
     "text": [
      "PCC: 0.6717, 0.9005, 0.5434\n",
      "SSIM: 0.7820, 0.9965, 0.4185\n",
      "MSE: 0.0034, 0.0277, 0.0001\n",
      "NRMSE: 7.0141, 66.4183, 0.4510\n"
     ]
    },
    {
     "name": "stderr",
     "output_type": "stream",
     "text": [
      "/home/wys/miniconda3/envs/python3.10/lib/python3.10/site-packages/scanpy/preprocessing/_normalization.py:208: UserWarning: Received a view of an AnnData. Making a copy.\n",
      "  view_to_actual(adata)\n",
      "/home/wys/miniconda3/envs/python3.10/lib/python3.10/site-packages/scanpy/preprocessing/_normalization.py:208: UserWarning: Received a view of an AnnData. Making a copy.\n",
      "  view_to_actual(adata)\n",
      "/mnt/shared/wys/Sim2Real-ST/REVISE/revise/metrics.py:81: ConstantInputWarning: An input array is constant; the correlation coefficient is not defined.\n",
      "  pcc, _ = pearsonr(orig_expr, noisy_expr)\n",
      "/mnt/shared/wys/Sim2Real-ST/REVISE/revise/metrics.py:102: RuntimeWarning: invalid value encountered in scalar divide\n",
      "  nrmse = np.sqrt(mse) / np.mean(orig_expr)\n",
      "\n",
      "Iteration: 100%|██████████| 2/2 [00:18<00:00,  9.03s/it]\n",
      "Part: 100%|██████████| 3/3 [00:38<00:00, 12.87s/it]\n",
      "Spot size:  50%|█████     | 2/4 [01:25<01:24, 42.20s/it]"
     ]
    },
    {
     "name": "stdout",
     "output_type": "stream",
     "text": [
      "PCC: 0.7507, 1.0000, 0.4791\n",
      "SSIM: 0.8783, 1.0000, 0.2947\n",
      "MSE: 0.0034, 0.0691, 0.0000\n",
      "NRMSE: 20.7142, 268.0835, 0.0000\n"
     ]
    },
    {
     "name": "stderr",
     "output_type": "stream",
     "text": [
      "\n",
      "\u001b[A/home/wys/miniconda3/envs/python3.10/lib/python3.10/site-packages/scanpy/preprocessing/_normalization.py:208: UserWarning: Received a view of an AnnData. Making a copy.\n",
      "  view_to_actual(adata)\n",
      "/home/wys/miniconda3/envs/python3.10/lib/python3.10/site-packages/scanpy/preprocessing/_normalization.py:208: UserWarning: Received a view of an AnnData. Making a copy.\n",
      "  view_to_actual(adata)\n",
      "\n",
      "\u001b[A"
     ]
    },
    {
     "name": "stdout",
     "output_type": "stream",
     "text": [
      "PCC: 0.6451, 0.9421, 0.4465\n",
      "SSIM: 0.7502, 0.9954, 0.3024\n",
      "MSE: 0.0041, 0.0285, 0.0002\n",
      "NRMSE: 6.6875, 79.8712, 0.5795\n"
     ]
    },
    {
     "name": "stderr",
     "output_type": "stream",
     "text": [
      "/home/wys/miniconda3/envs/python3.10/lib/python3.10/site-packages/scanpy/preprocessing/_normalization.py:208: UserWarning: Received a view of an AnnData. Making a copy.\n",
      "  view_to_actual(adata)\n",
      "/home/wys/miniconda3/envs/python3.10/lib/python3.10/site-packages/scanpy/preprocessing/_normalization.py:208: UserWarning: Received a view of an AnnData. Making a copy.\n",
      "  view_to_actual(adata)\n",
      "/mnt/shared/wys/Sim2Real-ST/REVISE/revise/metrics.py:81: ConstantInputWarning: An input array is constant; the correlation coefficient is not defined.\n",
      "  pcc, _ = pearsonr(orig_expr, noisy_expr)\n",
      "/mnt/shared/wys/Sim2Real-ST/REVISE/revise/metrics.py:102: RuntimeWarning: invalid value encountered in scalar divide\n",
      "  nrmse = np.sqrt(mse) / np.mean(orig_expr)\n",
      "\n",
      "Iteration: 100%|██████████| 2/2 [00:11<00:00,  5.91s/it]\n"
     ]
    },
    {
     "name": "stdout",
     "output_type": "stream",
     "text": [
      "PCC: 0.7552, 0.9802, 0.3583\n",
      "SSIM: 0.8847, 1.0000, 0.5091\n",
      "MSE: 0.0029, 0.0319, 0.0000\n",
      "NRMSE: 19.4629, 180.8701, 0.2412\n"
     ]
    },
    {
     "name": "stderr",
     "output_type": "stream",
     "text": [
      "\n",
      "\u001b[A/home/wys/miniconda3/envs/python3.10/lib/python3.10/site-packages/scanpy/preprocessing/_normalization.py:208: UserWarning: Received a view of an AnnData. Making a copy.\n",
      "  view_to_actual(adata)\n",
      "/home/wys/miniconda3/envs/python3.10/lib/python3.10/site-packages/scanpy/preprocessing/_normalization.py:208: UserWarning: Received a view of an AnnData. Making a copy.\n",
      "  view_to_actual(adata)\n",
      "\n",
      "\u001b[A"
     ]
    },
    {
     "name": "stdout",
     "output_type": "stream",
     "text": [
      "PCC: 0.6478, 0.9365, 0.4586\n",
      "SSIM: 0.7267, 0.9983, 0.3778\n",
      "MSE: 0.0045, 0.0296, 0.0001\n",
      "NRMSE: 6.0798, 70.0207, 0.3031\n"
     ]
    },
    {
     "name": "stderr",
     "output_type": "stream",
     "text": [
      "/home/wys/miniconda3/envs/python3.10/lib/python3.10/site-packages/scanpy/preprocessing/_normalization.py:208: UserWarning: Received a view of an AnnData. Making a copy.\n",
      "  view_to_actual(adata)\n",
      "/home/wys/miniconda3/envs/python3.10/lib/python3.10/site-packages/scanpy/preprocessing/_normalization.py:208: UserWarning: Received a view of an AnnData. Making a copy.\n",
      "  view_to_actual(adata)\n",
      "/mnt/shared/wys/Sim2Real-ST/REVISE/revise/metrics.py:81: ConstantInputWarning: An input array is constant; the correlation coefficient is not defined.\n",
      "  pcc, _ = pearsonr(orig_expr, noisy_expr)\n",
      "/mnt/shared/wys/Sim2Real-ST/REVISE/revise/metrics.py:102: RuntimeWarning: invalid value encountered in scalar divide\n",
      "  nrmse = np.sqrt(mse) / np.mean(orig_expr)\n",
      "\n",
      "Iteration: 100%|██████████| 2/2 [00:09<00:00,  4.73s/it]\n"
     ]
    },
    {
     "name": "stdout",
     "output_type": "stream",
     "text": [
      "PCC: 0.7452, 0.9672, 0.4490\n",
      "SSIM: 0.8530, 1.0000, 0.4068\n",
      "MSE: 0.0041, 0.0370, 0.0000\n",
      "NRMSE: 11.6472, 188.5352, 0.1362\n"
     ]
    },
    {
     "name": "stderr",
     "output_type": "stream",
     "text": [
      "\n",
      "\u001b[A/home/wys/miniconda3/envs/python3.10/lib/python3.10/site-packages/scanpy/preprocessing/_normalization.py:208: UserWarning: Received a view of an AnnData. Making a copy.\n",
      "  view_to_actual(adata)\n",
      "/home/wys/miniconda3/envs/python3.10/lib/python3.10/site-packages/scanpy/preprocessing/_normalization.py:208: UserWarning: Received a view of an AnnData. Making a copy.\n",
      "  view_to_actual(adata)\n",
      "\n",
      "\u001b[A"
     ]
    },
    {
     "name": "stdout",
     "output_type": "stream",
     "text": [
      "PCC: 0.6104, 0.8790, 0.4831\n",
      "SSIM: 0.7317, 0.9962, 0.3339\n",
      "MSE: 0.0043, 0.0411, 0.0001\n",
      "NRMSE: 7.4297, 75.0881, 0.6804\n"
     ]
    },
    {
     "name": "stderr",
     "output_type": "stream",
     "text": [
      "/home/wys/miniconda3/envs/python3.10/lib/python3.10/site-packages/scanpy/preprocessing/_normalization.py:208: UserWarning: Received a view of an AnnData. Making a copy.\n",
      "  view_to_actual(adata)\n",
      "/home/wys/miniconda3/envs/python3.10/lib/python3.10/site-packages/scanpy/preprocessing/_normalization.py:208: UserWarning: Received a view of an AnnData. Making a copy.\n",
      "  view_to_actual(adata)\n",
      "/mnt/shared/wys/Sim2Real-ST/REVISE/revise/metrics.py:81: ConstantInputWarning: An input array is constant; the correlation coefficient is not defined.\n",
      "  pcc, _ = pearsonr(orig_expr, noisy_expr)\n",
      "/mnt/shared/wys/Sim2Real-ST/REVISE/revise/metrics.py:102: RuntimeWarning: invalid value encountered in scalar divide\n",
      "  nrmse = np.sqrt(mse) / np.mean(orig_expr)\n",
      "\n",
      "Iteration: 100%|██████████| 2/2 [00:20<00:00, 10.11s/it]\n",
      "Part: 100%|██████████| 3/3 [00:41<00:00, 13.84s/it]\n",
      "Spot size:  75%|███████▌  | 3/4 [02:07<00:41, 41.89s/it]"
     ]
    },
    {
     "name": "stdout",
     "output_type": "stream",
     "text": [
      "PCC: 0.7110, 1.0000, 0.4294\n",
      "SSIM: 0.8557, 1.0000, 0.3518\n",
      "MSE: 0.0040, 0.0923, 0.0000\n",
      "NRMSE: 21.9782, 307.5527, 0.0000\n"
     ]
    },
    {
     "name": "stderr",
     "output_type": "stream",
     "text": [
      "\n",
      "\u001b[A/home/wys/miniconda3/envs/python3.10/lib/python3.10/site-packages/scanpy/preprocessing/_normalization.py:208: UserWarning: Received a view of an AnnData. Making a copy.\n",
      "  view_to_actual(adata)\n",
      "/home/wys/miniconda3/envs/python3.10/lib/python3.10/site-packages/scanpy/preprocessing/_normalization.py:208: UserWarning: Received a view of an AnnData. Making a copy.\n",
      "  view_to_actual(adata)\n",
      "\n",
      "\u001b[A"
     ]
    },
    {
     "name": "stdout",
     "output_type": "stream",
     "text": [
      "PCC: 0.6003, 0.9369, 0.4063\n",
      "SSIM: 0.7097, 0.9947, 0.2572\n",
      "MSE: 0.0046, 0.0344, 0.0002\n",
      "NRMSE: 6.9350, 70.6689, 0.6437\n"
     ]
    },
    {
     "name": "stderr",
     "output_type": "stream",
     "text": [
      "/home/wys/miniconda3/envs/python3.10/lib/python3.10/site-packages/scanpy/preprocessing/_normalization.py:208: UserWarning: Received a view of an AnnData. Making a copy.\n",
      "  view_to_actual(adata)\n",
      "/home/wys/miniconda3/envs/python3.10/lib/python3.10/site-packages/scanpy/preprocessing/_normalization.py:208: UserWarning: Received a view of an AnnData. Making a copy.\n",
      "  view_to_actual(adata)\n",
      "/mnt/shared/wys/Sim2Real-ST/REVISE/revise/metrics.py:81: ConstantInputWarning: An input array is constant; the correlation coefficient is not defined.\n",
      "  pcc, _ = pearsonr(orig_expr, noisy_expr)\n",
      "/mnt/shared/wys/Sim2Real-ST/REVISE/revise/metrics.py:102: RuntimeWarning: invalid value encountered in scalar divide\n",
      "  nrmse = np.sqrt(mse) / np.mean(orig_expr)\n",
      "\n",
      "Iteration: 100%|██████████| 2/2 [00:08<00:00,  4.38s/it]\n"
     ]
    },
    {
     "name": "stdout",
     "output_type": "stream",
     "text": [
      "PCC: 0.7306, 0.9754, 0.4617\n",
      "SSIM: 0.8687, 1.0000, 0.4683\n",
      "MSE: 0.0032, 0.0391, 0.0000\n",
      "NRMSE: 19.9177, 220.8570, 0.2792\n"
     ]
    },
    {
     "name": "stderr",
     "output_type": "stream",
     "text": [
      "\n",
      "\u001b[A/home/wys/miniconda3/envs/python3.10/lib/python3.10/site-packages/scanpy/preprocessing/_normalization.py:208: UserWarning: Received a view of an AnnData. Making a copy.\n",
      "  view_to_actual(adata)\n",
      "/home/wys/miniconda3/envs/python3.10/lib/python3.10/site-packages/scanpy/preprocessing/_normalization.py:208: UserWarning: Received a view of an AnnData. Making a copy.\n",
      "  view_to_actual(adata)\n",
      "\n",
      "\u001b[A"
     ]
    },
    {
     "name": "stdout",
     "output_type": "stream",
     "text": [
      "PCC: 0.5978, 0.9260, 0.4131\n",
      "SSIM: 0.6800, 0.9968, 0.3171\n",
      "MSE: 0.0055, 0.0365, 0.0002\n",
      "NRMSE: 6.5102, 75.5163, 0.3033\n"
     ]
    },
    {
     "name": "stderr",
     "output_type": "stream",
     "text": [
      "/home/wys/miniconda3/envs/python3.10/lib/python3.10/site-packages/scanpy/preprocessing/_normalization.py:208: UserWarning: Received a view of an AnnData. Making a copy.\n",
      "  view_to_actual(adata)\n",
      "/home/wys/miniconda3/envs/python3.10/lib/python3.10/site-packages/scanpy/preprocessing/_normalization.py:208: UserWarning: Received a view of an AnnData. Making a copy.\n",
      "  view_to_actual(adata)\n",
      "/mnt/shared/wys/Sim2Real-ST/REVISE/revise/metrics.py:81: ConstantInputWarning: An input array is constant; the correlation coefficient is not defined.\n",
      "  pcc, _ = pearsonr(orig_expr, noisy_expr)\n",
      "/mnt/shared/wys/Sim2Real-ST/REVISE/revise/metrics.py:102: RuntimeWarning: invalid value encountered in scalar divide\n",
      "  nrmse = np.sqrt(mse) / np.mean(orig_expr)\n",
      "\n",
      "Iteration: 100%|██████████| 2/2 [00:07<00:00,  3.79s/it]\n"
     ]
    },
    {
     "name": "stdout",
     "output_type": "stream",
     "text": [
      "PCC: 0.7041, 0.9578, 0.4218\n",
      "SSIM: 0.8271, 1.0000, 0.3824\n",
      "MSE: 0.0047, 0.0471, 0.0000\n",
      "NRMSE: 12.3028, 174.6498, 0.1516\n"
     ]
    },
    {
     "name": "stderr",
     "output_type": "stream",
     "text": [
      "\n",
      "\u001b[A/home/wys/miniconda3/envs/python3.10/lib/python3.10/site-packages/scanpy/preprocessing/_normalization.py:208: UserWarning: Received a view of an AnnData. Making a copy.\n",
      "  view_to_actual(adata)\n",
      "/home/wys/miniconda3/envs/python3.10/lib/python3.10/site-packages/scanpy/preprocessing/_normalization.py:208: UserWarning: Received a view of an AnnData. Making a copy.\n",
      "  view_to_actual(adata)\n",
      "\n",
      "\u001b[A"
     ]
    },
    {
     "name": "stdout",
     "output_type": "stream",
     "text": [
      "PCC: 0.5474, 0.8651, 0.3922\n",
      "SSIM: 0.6792, 0.9949, 0.2482\n",
      "MSE: 0.0053, 0.0469, 0.0001\n",
      "NRMSE: 7.9154, 87.9720, 0.6530\n"
     ]
    },
    {
     "name": "stderr",
     "output_type": "stream",
     "text": [
      "/home/wys/miniconda3/envs/python3.10/lib/python3.10/site-packages/scanpy/preprocessing/_normalization.py:208: UserWarning: Received a view of an AnnData. Making a copy.\n",
      "  view_to_actual(adata)\n",
      "/home/wys/miniconda3/envs/python3.10/lib/python3.10/site-packages/scanpy/preprocessing/_normalization.py:208: UserWarning: Received a view of an AnnData. Making a copy.\n",
      "  view_to_actual(adata)\n",
      "/mnt/shared/wys/Sim2Real-ST/REVISE/revise/metrics.py:81: ConstantInputWarning: An input array is constant; the correlation coefficient is not defined.\n",
      "  pcc, _ = pearsonr(orig_expr, noisy_expr)\n",
      "/mnt/shared/wys/Sim2Real-ST/REVISE/revise/metrics.py:102: RuntimeWarning: invalid value encountered in scalar divide\n",
      "  nrmse = np.sqrt(mse) / np.mean(orig_expr)\n",
      "\n",
      "Iteration: 100%|██████████| 2/2 [00:14<00:00,  7.17s/it]\n",
      "Part: 100%|██████████| 3/3 [00:30<00:00, 10.23s/it]\n",
      "Spot size: 100%|██████████| 4/4 [02:38<00:00, 39.54s/it]"
     ]
    },
    {
     "name": "stdout",
     "output_type": "stream",
     "text": [
      "PCC: 0.6690, 1.0000, 0.4031\n",
      "SSIM: 0.8311, 1.0000, 0.2989\n",
      "MSE: 0.0049, 0.0921, 0.0000\n",
      "NRMSE: 23.2517, 281.5520, 0.0000\n"
     ]
    },
    {
     "name": "stderr",
     "output_type": "stream",
     "text": [
      "\n"
     ]
    }
   ],
   "source": [
    "import os\n",
    "import pandas as pd\n",
    "import numpy as np\n",
    "import scanpy as sc\n",
    "from tqdm import tqdm\n",
    "from revise.metrics import compute_metric\n",
    "\n",
    "\n",
    "save_dir = \"0_bin2cell_results\"\n",
    "sn = \"Xenium\"\n",
    "patient_id = \"P2CRC\"\n",
    "parts = [\"part1\", \"part2\", \"part3\"]\n",
    "iterations=[0, 2]\n",
    "spot_sizes = [20, 30, 40, 50]\n",
    "\n",
    "for spot_size in tqdm(spot_sizes, desc=\"Spot size\"):\n",
    "    for part in tqdm(parts, desc=\"Part\"):\n",
    "        for iteration in tqdm(iterations, desc=\"Iteration\"):\n",
    "            result_dir=f\"{save_dir}/{patient_id}/{part}/{iteration}/{spot_size}_1_1\"\n",
    "            bin2cell_adata = \n",
    "            os.makedirs(result_dir, exist_ok=True)\n",
    "            input_dir = f\"WSI_{sn}/{patient_id}/cut_{part}/{iteration}\"\n",
    "            spot_path = os.path.join(input_dir, f\"spot_{spot_size}\")\n",
    "            \n",
    "            st_path = f\"{spot_path}/xenium_spot.h5ad\"\n",
    "            sc_path = f\"{input_dir}/selected_xenium.h5ad\"\n",
    "\n",
    "            st_adata = sc.read(st_path)\n",
    "            sc_adata = sc.read(sc_path)\n",
    "            bin2cell_adata = sc.read(bin2cell_adata)\n",
    "            \n",
    "            gene_names = bin2cell_adata.var_names.intersection(sc_adata.var_names)\n",
    "            sc_list = bin2cell_adata.obs['cell_id'].values\n",
    "            sc_adata.obs.index = sc_adata.obs['cell_id'].values\n",
    "            sc_adata = sc_adata[sc_list, gene_names]\n",
    "            bin2cell_adata = bin2cell_adata[:, gene_names]\n",
    "\n",
    "            sc.pp.normalize_total(bin2cell_adata, target_sum=1e4)\n",
    "            sc.pp.normalize_total(sc_adata, target_sum=1e4)\n",
    "            metrics_df = compute_metric(sc_adata, bin2cell_adata, \n",
    "                                adata_process=False, gene_list=None,\n",
    "                                normalize=True)\n",
    "            metrics_df.to_csv(f\"{result_dir}/metrics.csv\")"
   ]
  },
  {
   "cell_type": "code",
   "execution_count": 121,
   "metadata": {},
   "outputs": [],
   "source": [
    "import pandas as pd\n",
    "from tqdm import tqdm\n",
    "def get_merge_df(source_path, bin2cell_source_path, part, metric):\n",
    "    iterations = [0, 2]\n",
    "    spot_sizes = [20, 30, 40, 50]\n",
    "\n",
    "    merge_df = pd.DataFrame()\n",
    "    for iteration in tqdm(iterations, desc = \"iterations\"):\n",
    "        for spot_size in tqdm(spot_sizes, desc=\"spot_sizes\"):    \n",
    "            sc_metric_file = f\"{source_path}/{part}/{iteration}/{spot_size}_1_1/metrics_normalized.csv\"\n",
    "            sp_metric_file = f\"{source_path}/{part}/{iteration}/{spot_size}_1_1/sp_metrics_normalized.csv\"\n",
    "            bin2cell_metric_file = f\"{bin2cell_source_path}/{part}/{iteration}/{spot_size}_1_1/metrics.csv\"\n",
    "\n",
    "            sc_metric = pd.read_csv(sc_metric_file, index_col=0)\n",
    "            sp_metric = pd.read_csv(sp_metric_file, index_col=0)\n",
    "            bin2cell_metric = pd.read_csv(bin2cell_metric_file, index_col=0)\n",
    "            \n",
    "            df_sc = pd.DataFrame([sc_metric[metric].mean()], columns=[\"Value\"])\n",
    "            df_sc['Method'] = \"sc-SVC\"\n",
    "\n",
    "            df_sp = pd.DataFrame([sp_metric[metric].mean()], columns=[\"Value\"])\n",
    "            df_sp['Method'] = \"sp-SVC\"\n",
    "\n",
    "            df_bin2cell = pd.DataFrame([bin2cell_metric[metric].mean()], columns=[\"Value\"])\n",
    "            df_bin2cell['Method'] = \"bin2cell\"\n",
    "            \n",
    "\n",
    "            df = pd.concat([df_bin2cell, df_sc, df_sp])\n",
    "            df['Iteration'] = iteration\n",
    "            df['Spot_size'] = spot_size\n",
    "            df['Part'] = part\n",
    "            df['Metric'] = metric\n",
    "            \n",
    "            merge_df = pd.concat([merge_df, df])\n",
    "    merge_df.reset_index(drop=True, inplace=True)\n",
    "    return merge_df\n",
    "\n",
    "import matplotlib.pyplot as plt\n",
    "def plot_comp_bin2cell(merge_df, metric, part, ax):\n",
    "    unique_spot_sizes = merge_df['Spot_size'].unique()\n",
    "    unique_methods = [\"bin2cell\", \"sc-SVC\", \"sp-SVC\"]\n",
    "\n",
    "    # 为每个 Method 分配一个颜色\n",
    "    cmap = plt.cm.get_cmap('tab10', len(unique_methods))\n",
    "    method_colors = {method: cmap(i) for i, method in enumerate(unique_methods)}\n",
    "\n",
    "    # 按 Spot_size 和 Method 排序\n",
    "    merge_df = merge_df.sort_values(by=['Spot_size', 'Method'])\n",
    "\n",
    "    # 计算每个 Spot_size 的位置\n",
    "    spot_size_positions = np.arange(len(unique_spot_sizes)) * (len(unique_methods) + 1)\n",
    "\n",
    "    # 绘制柱状图\n",
    "    for i, spot_size in enumerate(unique_spot_sizes):\n",
    "        for j, method in enumerate(unique_methods):\n",
    "            subset = merge_df[(merge_df['Spot_size'] == spot_size) & (merge_df['Method'] == method)]\n",
    "            if not subset.empty:\n",
    "                x_positions = [spot_size_positions[i] + j] * len(subset)\n",
    "                # 根据 Iteration 调整颜色的透明度\n",
    "                colors = [method_colors[method]] * len(subset)\n",
    "                alphas = [0.1 if k % 2 == 0 else 0.6 for k in subset['Iteration'] - 1]\n",
    "                for x, value, color, alpha in zip(x_positions, subset['Value'], colors, alphas):\n",
    "                    bottom = 0.5 if metric in [\"PCC\", \"SSIM\"] else 1e-6\n",
    "                    ax.bar(x, value - bottom, color=color, alpha=alpha, bottom = bottom)\n",
    "\n",
    "    # # 设置横轴刻度和标签\n",
    "    # ax.set_xticks(spot_size_positions)\n",
    "    # ax.set_xticklabels(unique_spot_sizes)\n",
    "    ax.xaxis.set_visible(False)\n",
    "\n",
    "    # # 设置标题和标签\n",
    "    # ax.set_title(f'{part}')\n",
    "    # ax.set_ylabel(metric)\n",
    "\n",
    "    # 设置 Y 轴为对数刻\n",
    "\n",
    "    # 设置 Y 轴范围\n",
    "    if metric == \"PCC\":\n",
    "        ax.set_ylim(0.5, 1.02)\n",
    "    elif metric == \"SSIM\":\n",
    "        ax.set_ylim(0.5, 1.02)\n",
    "    elif metric == \"MSE\":\n",
    "        ax.set_ylim(1e-6, 1e-2)\n",
    "        ax.set_yscale('log')\n",
    "    \n",
    "source_path = \"/home/wys/Sim2Real-ST/REVISE/0_revise_results_s/P2CRC\""
   ]
  },
  {
   "cell_type": "code",
   "execution_count": 122,
   "metadata": {},
   "outputs": [
    {
     "name": "stderr",
     "output_type": "stream",
     "text": [
      "spot_sizes: 100%|██████████| 4/4 [00:00<00:00, 192.35it/s]\n",
      "spot_sizes: 100%|██████████| 4/4 [00:00<00:00, 204.18it/s]\n",
      "iterations: 100%|██████████| 2/2 [00:00<00:00, 45.30it/s]\n",
      "/tmp/ipykernel_3589326/3361148231.py:44: MatplotlibDeprecationWarning: The get_cmap function was deprecated in Matplotlib 3.7 and will be removed two minor releases later. Use ``matplotlib.colormaps[name]`` or ``matplotlib.colormaps.get_cmap(obj)`` instead.\n",
      "  cmap = plt.cm.get_cmap('tab10', len(unique_methods))\n",
      "spot_sizes: 100%|██████████| 4/4 [00:00<00:00, 101.51it/s]\n",
      "spot_sizes: 100%|██████████| 4/4 [00:00<00:00, 101.96it/s]\n",
      "iterations: 100%|██████████| 2/2 [00:00<00:00, 23.37it/s]\n",
      "/tmp/ipykernel_3589326/3361148231.py:44: MatplotlibDeprecationWarning: The get_cmap function was deprecated in Matplotlib 3.7 and will be removed two minor releases later. Use ``matplotlib.colormaps[name]`` or ``matplotlib.colormaps.get_cmap(obj)`` instead.\n",
      "  cmap = plt.cm.get_cmap('tab10', len(unique_methods))\n",
      "spot_sizes: 100%|██████████| 4/4 [00:00<00:00, 196.63it/s]\n",
      "spot_sizes: 100%|██████████| 4/4 [00:00<00:00, 197.86it/s]\n",
      "iterations: 100%|██████████| 2/2 [00:00<00:00, 45.55it/s]\n",
      "/tmp/ipykernel_3589326/3361148231.py:44: MatplotlibDeprecationWarning: The get_cmap function was deprecated in Matplotlib 3.7 and will be removed two minor releases later. Use ``matplotlib.colormaps[name]`` or ``matplotlib.colormaps.get_cmap(obj)`` instead.\n",
      "  cmap = plt.cm.get_cmap('tab10', len(unique_methods))\n",
      "spot_sizes: 100%|██████████| 4/4 [00:00<00:00, 162.70it/s]\n",
      "spot_sizes: 100%|██████████| 4/4 [00:00<00:00, 88.82it/s]\n",
      "iterations: 100%|██████████| 2/2 [00:00<00:00, 27.37it/s]\n",
      "/tmp/ipykernel_3589326/3361148231.py:44: MatplotlibDeprecationWarning: The get_cmap function was deprecated in Matplotlib 3.7 and will be removed two minor releases later. Use ``matplotlib.colormaps[name]`` or ``matplotlib.colormaps.get_cmap(obj)`` instead.\n",
      "  cmap = plt.cm.get_cmap('tab10', len(unique_methods))\n",
      "spot_sizes: 100%|██████████| 4/4 [00:00<00:00, 99.88it/s]\n",
      "spot_sizes: 100%|██████████| 4/4 [00:00<00:00, 96.21it/s]\n",
      "iterations: 100%|██████████| 2/2 [00:00<00:00, 21.92it/s]\n",
      "/tmp/ipykernel_3589326/3361148231.py:44: MatplotlibDeprecationWarning: The get_cmap function was deprecated in Matplotlib 3.7 and will be removed two minor releases later. Use ``matplotlib.colormaps[name]`` or ``matplotlib.colormaps.get_cmap(obj)`` instead.\n",
      "  cmap = plt.cm.get_cmap('tab10', len(unique_methods))\n",
      "spot_sizes: 100%|██████████| 4/4 [00:00<00:00, 182.17it/s]\n",
      "spot_sizes: 100%|██████████| 4/4 [00:00<00:00, 112.90it/s]\n",
      "iterations: 100%|██████████| 2/2 [00:00<00:00, 26.72it/s]\n",
      "/tmp/ipykernel_3589326/3361148231.py:44: MatplotlibDeprecationWarning: The get_cmap function was deprecated in Matplotlib 3.7 and will be removed two minor releases later. Use ``matplotlib.colormaps[name]`` or ``matplotlib.colormaps.get_cmap(obj)`` instead.\n",
      "  cmap = plt.cm.get_cmap('tab10', len(unique_methods))\n",
      "spot_sizes: 100%|██████████| 4/4 [00:00<00:00, 91.75it/s]\n",
      "spot_sizes: 100%|██████████| 4/4 [00:00<00:00, 92.29it/s]\n",
      "iterations: 100%|██████████| 2/2 [00:00<00:00, 22.02it/s]\n",
      "/tmp/ipykernel_3589326/3361148231.py:44: MatplotlibDeprecationWarning: The get_cmap function was deprecated in Matplotlib 3.7 and will be removed two minor releases later. Use ``matplotlib.colormaps[name]`` or ``matplotlib.colormaps.get_cmap(obj)`` instead.\n",
      "  cmap = plt.cm.get_cmap('tab10', len(unique_methods))\n",
      "spot_sizes: 100%|██████████| 4/4 [00:00<00:00, 170.27it/s]\n",
      "spot_sizes: 100%|██████████| 4/4 [00:00<00:00, 198.27it/s]\n",
      "iterations: 100%|██████████| 2/2 [00:00<00:00, 42.35it/s]\n",
      "/tmp/ipykernel_3589326/3361148231.py:44: MatplotlibDeprecationWarning: The get_cmap function was deprecated in Matplotlib 3.7 and will be removed two minor releases later. Use ``matplotlib.colormaps[name]`` or ``matplotlib.colormaps.get_cmap(obj)`` instead.\n",
      "  cmap = plt.cm.get_cmap('tab10', len(unique_methods))\n",
      "spot_sizes: 100%|██████████| 4/4 [00:00<00:00, 202.62it/s]\n",
      "spot_sizes: 100%|██████████| 4/4 [00:00<00:00, 128.61it/s]\n",
      "iterations: 100%|██████████| 2/2 [00:00<00:00, 34.56it/s]\n",
      "/tmp/ipykernel_3589326/3361148231.py:44: MatplotlibDeprecationWarning: The get_cmap function was deprecated in Matplotlib 3.7 and will be removed two minor releases later. Use ``matplotlib.colormaps[name]`` or ``matplotlib.colormaps.get_cmap(obj)`` instead.\n",
      "  cmap = plt.cm.get_cmap('tab10', len(unique_methods))\n"
     ]
    },
    {
     "data": {
      "image/png": "[encoded data removed]",
      "text/plain": [
       "<Figure size 1500x900 with 9 Axes>"
      ]
     },
     "metadata": {},
     "output_type": "display_data"
    }
   ],
   "source": [
    "import matplotlib.pyplot as plt\n",
    "\n",
    "# 假设你已经定义了 get_merge_df 和 plot_comp_bin2cell 函数\n",
    "bin2cell_source_path = f\"./0_bin2cell_results/{patient_id}\"\n",
    "parts = [\"part3\", \"part1\", \"part2\"]\n",
    "metrics = [\"PCC\", \"SSIM\", \"MSE\"]\n",
    "\n",
    "# 创建一个 3x3 的子图布局\n",
    "fig, axes = plt.subplots(3, 3, figsize=(15, 9))\n",
    "\n",
    "# 遍历 parts 和 metrics\n",
    "for i, part in enumerate(parts):\n",
    "    for j, metric in enumerate(metrics):\n",
    "        # 获取数据\n",
    "        merge_df = get_merge_df(source_path, bin2cell_source_path, part, metric)\n",
    "        \n",
    "        # 在对应的子图上绘制图形\n",
    "        ax = axes[j, i]\n",
    "        plot_comp_bin2cell(merge_df, metric, part, ax=ax)\n",
    "\n",
    "# 调整布局\n",
    "plt.tight_layout()\n",
    "plt.savefig(\"analysis_minor_CF.pdf\", dpi=300)\n",
    "plt.show()"
   ]
  },
  {
   "cell_type": "markdown",
   "metadata": {},
   "source": [
    "## Segmentation CF as spot size here"
   ]
  },
  {
   "cell_type": "markdown",
   "metadata": {},
   "source": [
    "### add noise as segmentation error"
   ]
  },
  {
   "cell_type": "code",
   "execution_count": 4,
   "metadata": {},
   "outputs": [
    {
     "name": "stderr",
     "output_type": "stream",
     "text": [
      "Part:   0%|          | 0/3 [00:00<?, ?it/s]/home/wys/miniconda3/envs/python3.10/lib/python3.10/site-packages/scipy/sparse/_index.py:142: SparseEfficiencyWarning: Changing the sparsity structure of a csr_matrix is expensive. lil_matrix is more efficient.\n",
      "  self._set_arrayXarray_sparse(i, j, x)\n"
     ]
    },
    {
     "name": "stdout",
     "output_type": "stream",
     "text": [
      "Segmentation: 1, Part: part1\n"
     ]
    },
    {
     "name": "stderr",
     "output_type": "stream",
     "text": [
      "/home/wys/miniconda3/envs/python3.10/lib/python3.10/site-packages/scanpy/preprocessing/_normalization.py:208: UserWarning: Received a view of an AnnData. Making a copy.\n",
      "  view_to_actual(adata)\n"
     ]
    },
    {
     "name": "stdout",
     "output_type": "stream",
     "text": [
      "PCC: 0.7711, 0.9547, 0.1686\n",
      "SSIM: 0.7941, 0.9752, 0.1562\n",
      "MSE: 0.0027, 0.0300, 0.0001\n",
      "NRMSE: 6.3300, 320.3496, 0.7425\n",
      "Segmentation: 2, Part: part1\n"
     ]
    },
    {
     "name": "stderr",
     "output_type": "stream",
     "text": [
      "/home/wys/miniconda3/envs/python3.10/lib/python3.10/site-packages/scanpy/preprocessing/_normalization.py:208: UserWarning: Received a view of an AnnData. Making a copy.\n",
      "  view_to_actual(adata)\n",
      "/home/wys/miniconda3/envs/python3.10/lib/python3.10/site-packages/scanpy/preprocessing/_normalization.py:235: UserWarning: Some cells have zero counts\n",
      "  warn(UserWarning(\"Some cells have zero counts\"))\n"
     ]
    },
    {
     "name": "stdout",
     "output_type": "stream",
     "text": [
      "PCC: 0.7822, 1.0000, 0.4250\n",
      "SSIM: 0.7819, 1.0000, 0.1109\n",
      "MSE: 0.0029, 0.0329, 0.0000\n",
      "NRMSE: 4.0521, 42.3522, 0.0000\n",
      "Segmentation: 3, Part: part1\n"
     ]
    },
    {
     "name": "stderr",
     "output_type": "stream",
     "text": [
      "/home/wys/miniconda3/envs/python3.10/lib/python3.10/site-packages/scipy/sparse/_index.py:142: SparseEfficiencyWarning: Changing the sparsity structure of a csr_matrix is expensive. lil_matrix is more efficient.\n",
      "  self._set_arrayXarray_sparse(i, j, x)\n",
      "/home/wys/miniconda3/envs/python3.10/lib/python3.10/site-packages/scanpy/preprocessing/_normalization.py:208: UserWarning: Received a view of an AnnData. Making a copy.\n",
      "  view_to_actual(adata)\n"
     ]
    },
    {
     "name": "stdout",
     "output_type": "stream",
     "text": [
      "PCC: 0.8024, 0.9776, 0.1192\n",
      "SSIM: 0.8999, 0.9647, 0.8430\n",
      "MSE: 0.0015, 0.0079, 0.0000\n",
      "NRMSE: 7.9264, 421.4608, 0.2552\n",
      "Segmentation: 4, Part: part1\n"
     ]
    },
    {
     "name": "stderr",
     "output_type": "stream",
     "text": [
      "/home/wys/miniconda3/envs/python3.10/lib/python3.10/site-packages/scipy/sparse/_index.py:142: SparseEfficiencyWarning: Changing the sparsity structure of a csr_matrix is expensive. lil_matrix is more efficient.\n",
      "  self._set_arrayXarray_sparse(i, j, x)\n",
      "/home/wys/miniconda3/envs/python3.10/lib/python3.10/site-packages/scanpy/preprocessing/_normalization.py:208: UserWarning: Received a view of an AnnData. Making a copy.\n",
      "  view_to_actual(adata)\n",
      "Segmentation: 100%|██████████| 4/4 [00:33<00:00,  8.39s/it]\n",
      "Part:  33%|███▎      | 1/3 [00:33<01:07, 33.62s/it]"
     ]
    },
    {
     "name": "stdout",
     "output_type": "stream",
     "text": [
      "PCC: 0.7104, 0.9477, 0.1719\n",
      "SSIM: 0.7596, 0.9589, 0.1753\n",
      "MSE: 0.0031, 0.0306, 0.0001\n",
      "NRMSE: 7.2793, 257.1678, 0.6038\n"
     ]
    },
    {
     "name": "stderr",
     "output_type": "stream",
     "text": []
    },
    {
     "name": "stdout",
     "output_type": "stream",
     "text": [
      "Segmentation: 1, Part: part2\n"
     ]
    },
    {
     "name": "stderr",
     "output_type": "stream",
     "text": [
      "/home/wys/miniconda3/envs/python3.10/lib/python3.10/site-packages/scipy/sparse/_index.py:142: SparseEfficiencyWarning: Changing the sparsity structure of a csr_matrix is expensive. lil_matrix is more efficient.\n",
      "  self._set_arrayXarray_sparse(i, j, x)\n",
      "/home/wys/miniconda3/envs/python3.10/lib/python3.10/site-packages/scanpy/preprocessing/_normalization.py:208: UserWarning: Received a view of an AnnData. Making a copy.\n",
      "  view_to_actual(adata)\n"
     ]
    },
    {
     "name": "stdout",
     "output_type": "stream",
     "text": [
      "PCC: 0.8080, 0.9592, 0.1622\n",
      "SSIM: 0.7835, 0.9728, 0.1509\n",
      "MSE: 0.0028, 0.0314, 0.0000\n",
      "NRMSE: 5.9379, 391.5461, 0.6853\n",
      "Segmentation: 2, Part: part2\n"
     ]
    },
    {
     "name": "stderr",
     "output_type": "stream",
     "text": [
      "/home/wys/miniconda3/envs/python3.10/lib/python3.10/site-packages/scanpy/preprocessing/_normalization.py:208: UserWarning: Received a view of an AnnData. Making a copy.\n",
      "  view_to_actual(adata)\n"
     ]
    },
    {
     "name": "stdout",
     "output_type": "stream",
     "text": [
      "PCC: 0.7889, 1.0000, 0.2957\n",
      "SSIM: 0.7697, 1.0000, 0.1822\n",
      "MSE: 0.0031, 0.0328, 0.0000\n",
      "NRMSE: 3.8918, 37.0433, 0.0000\n",
      "Segmentation: 3, Part: part2\n"
     ]
    },
    {
     "name": "stderr",
     "output_type": "stream",
     "text": [
      "/home/wys/miniconda3/envs/python3.10/lib/python3.10/site-packages/scipy/sparse/_index.py:142: SparseEfficiencyWarning: Changing the sparsity structure of a csr_matrix is expensive. lil_matrix is more efficient.\n",
      "  self._set_arrayXarray_sparse(i, j, x)\n",
      "/home/wys/miniconda3/envs/python3.10/lib/python3.10/site-packages/scanpy/preprocessing/_normalization.py:208: UserWarning: Received a view of an AnnData. Making a copy.\n",
      "  view_to_actual(adata)\n"
     ]
    },
    {
     "name": "stdout",
     "output_type": "stream",
     "text": [
      "PCC: 0.8468, 0.9750, 0.1012\n",
      "SSIM: 0.9015, 0.9739, 0.8155\n",
      "MSE: 0.0012, 0.0092, 0.0001\n",
      "NRMSE: 7.1159, 569.8149, 0.2567\n",
      "Segmentation: 4, Part: part2\n"
     ]
    },
    {
     "name": "stderr",
     "output_type": "stream",
     "text": [
      "/home/wys/miniconda3/envs/python3.10/lib/python3.10/site-packages/scipy/sparse/_index.py:142: SparseEfficiencyWarning: Changing the sparsity structure of a csr_matrix is expensive. lil_matrix is more efficient.\n",
      "  self._set_arrayXarray_sparse(i, j, x)\n",
      "/home/wys/miniconda3/envs/python3.10/lib/python3.10/site-packages/scanpy/preprocessing/_normalization.py:208: UserWarning: Received a view of an AnnData. Making a copy.\n",
      "  view_to_actual(adata)\n",
      "Segmentation: 100%|██████████| 4/4 [00:29<00:00,  7.31s/it]\n",
      "Part:  67%|██████▋   | 2/3 [01:02<00:31, 31.04s/it]"
     ]
    },
    {
     "name": "stdout",
     "output_type": "stream",
     "text": [
      "PCC: 0.7512, 0.9287, 0.1066\n",
      "SSIM: 0.7525, 0.9578, 0.2209\n",
      "MSE: 0.0031, 0.0324, 0.0001\n",
      "NRMSE: 7.4263, 563.9321, 0.7433\n"
     ]
    },
    {
     "name": "stderr",
     "output_type": "stream",
     "text": []
    },
    {
     "name": "stdout",
     "output_type": "stream",
     "text": [
      "Segmentation: 1, Part: part3\n"
     ]
    },
    {
     "name": "stderr",
     "output_type": "stream",
     "text": [
      "/home/wys/miniconda3/envs/python3.10/lib/python3.10/site-packages/scipy/sparse/_index.py:142: SparseEfficiencyWarning: Changing the sparsity structure of a csr_matrix is expensive. lil_matrix is more efficient.\n",
      "  self._set_arrayXarray_sparse(i, j, x)\n",
      "/home/wys/miniconda3/envs/python3.10/lib/python3.10/site-packages/scanpy/preprocessing/_normalization.py:208: UserWarning: Received a view of an AnnData. Making a copy.\n",
      "  view_to_actual(adata)\n",
      "/home/wys/miniconda3/envs/python3.10/lib/python3.10/site-packages/scanpy/preprocessing/_normalization.py:235: UserWarning: Some cells have zero counts\n",
      "  warn(UserWarning(\"Some cells have zero counts\"))\n"
     ]
    },
    {
     "name": "stdout",
     "output_type": "stream",
     "text": [
      "PCC: 0.7274, 0.9202, 0.1714\n",
      "SSIM: 0.7349, 0.9622, 0.0830\n",
      "MSE: 0.0034, 0.0430, 0.0001\n",
      "NRMSE: 7.0952, 225.4871, 0.8782\n",
      "Segmentation: 2, Part: part3\n"
     ]
    },
    {
     "name": "stderr",
     "output_type": "stream",
     "text": [
      "/home/wys/miniconda3/envs/python3.10/lib/python3.10/site-packages/scanpy/preprocessing/_normalization.py:208: UserWarning: Received a view of an AnnData. Making a copy.\n",
      "  view_to_actual(adata)\n",
      "/home/wys/miniconda3/envs/python3.10/lib/python3.10/site-packages/scanpy/preprocessing/_normalization.py:235: UserWarning: Some cells have zero counts\n",
      "  warn(UserWarning(\"Some cells have zero counts\"))\n"
     ]
    },
    {
     "name": "stdout",
     "output_type": "stream",
     "text": [
      "PCC: 0.7237, 0.9630, 0.3546\n",
      "SSIM: 0.7287, 0.9991, 0.0887\n",
      "MSE: 0.0036, 0.0505, 0.0000\n",
      "NRMSE: 4.9909, 62.4249, 0.8335\n",
      "Segmentation: 3, Part: part3\n"
     ]
    },
    {
     "name": "stderr",
     "output_type": "stream",
     "text": [
      "/home/wys/miniconda3/envs/python3.10/lib/python3.10/site-packages/scipy/sparse/_index.py:142: SparseEfficiencyWarning: Changing the sparsity structure of a csr_matrix is expensive. lil_matrix is more efficient.\n",
      "  self._set_arrayXarray_sparse(i, j, x)\n",
      "/home/wys/miniconda3/envs/python3.10/lib/python3.10/site-packages/scanpy/preprocessing/_normalization.py:208: UserWarning: Received a view of an AnnData. Making a copy.\n",
      "  view_to_actual(adata)\n"
     ]
    },
    {
     "name": "stdout",
     "output_type": "stream",
     "text": [
      "PCC: 0.7877, 0.9739, 0.1496\n",
      "SSIM: 0.9031, 0.9705, 0.8536\n",
      "MSE: 0.0013, 0.0066, 0.0000\n",
      "NRMSE: 9.3730, 316.2351, 0.2273\n",
      "Segmentation: 4, Part: part3\n"
     ]
    },
    {
     "name": "stderr",
     "output_type": "stream",
     "text": [
      "/home/wys/miniconda3/envs/python3.10/lib/python3.10/site-packages/scipy/sparse/_index.py:142: SparseEfficiencyWarning: Changing the sparsity structure of a csr_matrix is expensive. lil_matrix is more efficient.\n",
      "  self._set_arrayXarray_sparse(i, j, x)\n",
      "/home/wys/miniconda3/envs/python3.10/lib/python3.10/site-packages/scanpy/preprocessing/_normalization.py:208: UserWarning: Received a view of an AnnData. Making a copy.\n",
      "  view_to_actual(adata)\n",
      "Segmentation: 100%|██████████| 4/4 [00:56<00:00, 14.20s/it]\n",
      "Part: 100%|██████████| 3/3 [01:59<00:00, 39.90s/it]"
     ]
    },
    {
     "name": "stdout",
     "output_type": "stream",
     "text": [
      "PCC: 0.6698, 0.9064, 0.1427\n",
      "SSIM: 0.7076, 0.9567, 0.0678\n",
      "MSE: 0.0038, 0.0477, 0.0001\n",
      "NRMSE: 8.7161, 338.1197, 0.8845\n"
     ]
    },
    {
     "name": "stderr",
     "output_type": "stream",
     "text": [
      "\n"
     ]
    }
   ],
   "source": [
    "import os\n",
    "import shutil\n",
    "import pandas as pd\n",
    "import numpy as np\n",
    "import scanpy as sc\n",
    "from tqdm import tqdm\n",
    "from revise.metrics import compute_metric\n",
    "\n",
    "\n",
    "save_dir = \"0_segmentation_results\"\n",
    "sn = \"Xenium\"\n",
    "patient_id = \"P2CRC\"\n",
    "iteration=0\n",
    "\n",
    "parts = [\"part1\", \"part2\", \"part3\"]\n",
    "segs = [1, 2, 3, 4]\n",
    "\n",
    "def get_portion(seg, panel = 1):\n",
    "    if panel == 1: # seg\n",
    "        if seg == 1:\n",
    "            dropout_portion, swapping_portion = 0.1, 0.05\n",
    "        elif seg == 2:\n",
    "            dropout_portion, swapping_portion = 0.2, 0\n",
    "        elif seg == 3:\n",
    "            dropout_portion, swapping_portion = 0.0, 0.1\n",
    "        elif seg == 4:\n",
    "            dropout_portion, swapping_portion = 0.1, 0.1\n",
    "    elif panel == 2: # hd\n",
    "        if seg == 1:\n",
    "            dropout_portion, swapping_portion = 0.3, 0\n",
    "        elif seg == 2:\n",
    "            dropout_portion, swapping_portion = 0.1, 0.05\n",
    "        elif seg == 3:\n",
    "            dropout_portion, swapping_portion = 0.05, 0.1\n",
    "        elif seg == 4:\n",
    "            dropout_portion, swapping_portion = 0.0, 0.3\n",
    "    return dropout_portion, swapping_portion\n",
    "\n",
    "\n",
    "swapping_prob=0.18\n",
    "# swapping_prob=0.2\n",
    "\n",
    "\n",
    "for part in tqdm(parts, desc=\"Part\"):\n",
    "    \n",
    "    input_dir = f\"WSI_{sn}/{patient_id}/cut_{part}/{iteration}\"\n",
    "    sc_path = f\"{input_dir}/selected_xenium.h5ad\"\n",
    "\n",
    "    shutil.copy(sc_path, f\"WSI_{sn}_seg/{patient_id}/cut_{part}/{iteration}/selected_xenium.h5ad\")\n",
    "\n",
    "    for seg in tqdm(segs, desc=\"Segmentation\"):\n",
    "        dropout_portion, swapping_portion = get_portion(seg, panel = 1)\n",
    "\n",
    "        print(f\"Segmentation: {seg}, Part: {part}\")\n",
    "        result_dir=f\"{save_dir}/{patient_id}/{part}/{iteration}/{seg}_1_1\"\n",
    "        os.makedirs(result_dir, exist_ok=True)\n",
    "        \n",
    "        adata_save_dir = f\"WSI_{sn}_seg/{patient_id}/cut_{part}/{iteration}/spot_{seg}\"\n",
    "        os.makedirs(adata_save_dir, exist_ok=True)\n",
    "        \n",
    "        sc_adata = sc.read(sc_path)\n",
    "        seg_adata = sc.read(f\"{adata_save_dir}/xenium_spot.h5ad\")\n",
    "        \n",
    "        gene_names = seg_adata.var_names.intersection(sc_adata.var_names)\n",
    "        sc_list = seg_adata.obs['cell_id'].values\n",
    "        sc_adata.obs.index = sc_adata.obs['cell_id'].values\n",
    "        sc_adata = sc_adata[sc_list, gene_names]\n",
    "        seg_adata = seg_adata[:, gene_names]\n",
    "\n",
    "        sc.pp.normalize_total(seg_adata, target_sum=1e4)\n",
    "        sc.pp.normalize_total(sc_adata, target_sum=1e4)\n",
    "        metrics_df = compute_metric(sc_adata, seg_adata, \n",
    "                            adata_process=False, gene_list=None,\n",
    "                            normalize=True)\n",
    "        metrics_df.to_csv(f\"{result_dir}/seg_metrics.csv\")"
   ]
  },
  {
   "cell_type": "code",
   "execution_count": 35,
   "metadata": {},
   "outputs": [
    {
     "data": {
      "text/html": [
       "<div>\n",
       "<style scoped>\n",
       "    .dataframe tbody tr th:only-of-type {\n",
       "        vertical-align: middle;\n",
       "    }\n",
       "\n",
       "    .dataframe tbody tr th {\n",
       "        vertical-align: top;\n",
       "    }\n",
       "\n",
       "    .dataframe thead th {\n",
       "        text-align: right;\n",
       "    }\n",
       "</style>\n",
       "<table border=\"1\" class=\"dataframe\">\n",
       "  <thead>\n",
       "    <tr style=\"text-align: right;\">\n",
       "      <th></th>\n",
       "      <th>total_counts</th>\n",
       "      <th>seg_error</th>\n",
       "    </tr>\n",
       "  </thead>\n",
       "  <tbody>\n",
       "    <tr>\n",
       "      <th>aaaadaba-1</th>\n",
       "      <td>253.0</td>\n",
       "      <td>Unchanged</td>\n",
       "    </tr>\n",
       "    <tr>\n",
       "      <th>aaaadgga-1</th>\n",
       "      <td>127.0</td>\n",
       "      <td>Unchanged</td>\n",
       "    </tr>\n",
       "    <tr>\n",
       "      <th>aaaadmca-1</th>\n",
       "      <td>217.0</td>\n",
       "      <td>Unchanged</td>\n",
       "    </tr>\n",
       "    <tr>\n",
       "      <th>aaaaenln-1</th>\n",
       "      <td>165.0</td>\n",
       "      <td>Unchanged</td>\n",
       "    </tr>\n",
       "    <tr>\n",
       "      <th>aaaajoff-1</th>\n",
       "      <td>102.0</td>\n",
       "      <td>Unchanged</td>\n",
       "    </tr>\n",
       "    <tr>\n",
       "      <th>...</th>\n",
       "      <td>...</td>\n",
       "      <td>...</td>\n",
       "    </tr>\n",
       "    <tr>\n",
       "      <th>oglodpfg-1</th>\n",
       "      <td>396.0</td>\n",
       "      <td>Expanding</td>\n",
       "    </tr>\n",
       "    <tr>\n",
       "      <th>ogmbjlgf-1</th>\n",
       "      <td>62.0</td>\n",
       "      <td>Unchanged</td>\n",
       "    </tr>\n",
       "    <tr>\n",
       "      <th>ogmbpegh-1</th>\n",
       "      <td>59.0</td>\n",
       "      <td>Unchanged</td>\n",
       "    </tr>\n",
       "    <tr>\n",
       "      <th>ogmlnfpn-1</th>\n",
       "      <td>74.0</td>\n",
       "      <td>Unchanged</td>\n",
       "    </tr>\n",
       "    <tr>\n",
       "      <th>ogmolegb-1</th>\n",
       "      <td>400.0</td>\n",
       "      <td>Expanding</td>\n",
       "    </tr>\n",
       "  </tbody>\n",
       "</table>\n",
       "<p>27461 rows × 2 columns</p>\n",
       "</div>"
      ],
      "text/plain": [
       "            total_counts  seg_error\n",
       "aaaadaba-1         253.0  Unchanged\n",
       "aaaadgga-1         127.0  Unchanged\n",
       "aaaadmca-1         217.0  Unchanged\n",
       "aaaaenln-1         165.0  Unchanged\n",
       "aaaajoff-1         102.0  Unchanged\n",
       "...                  ...        ...\n",
       "oglodpfg-1         396.0  Expanding\n",
       "ogmbjlgf-1          62.0  Unchanged\n",
       "ogmbpegh-1          59.0  Unchanged\n",
       "ogmlnfpn-1          74.0  Unchanged\n",
       "ogmolegb-1         400.0  Expanding\n",
       "\n",
       "[27461 rows x 2 columns]"
      ]
     },
     "execution_count": 35,
     "metadata": {},
     "output_type": "execute_result"
    }
   ],
   "source": [
    "adata = sc.read(f\"{adata_save_dir}/xenium_spot.h5ad\")\n",
    "adata.obs['total_counts'] = adata.X.sum(axis=1)\n",
    "a = adata.obs[['total_counts', 'seg_error']]\n",
    "a"
   ]
  },
  {
   "cell_type": "code",
   "execution_count": 41,
   "metadata": {},
   "outputs": [
    {
     "data": {
      "image/png": "[encoded data removed]",
      "text/plain": [
       "<Figure size 640x480 with 1 Axes>"
      ]
     },
     "metadata": {},
     "output_type": "display_data"
    }
   ],
   "source": [
    "import seaborn as sns\n",
    "import matplotlib.pyplot as plt\n",
    "\n",
    "palettes = {\n",
    "    'Diminishing': '#8ECFC9',\n",
    "    'Expanding': '#FFBE7A',\n",
    "    'Unchanged': '#82B0D2'\n",
    "    }\n",
    "bins=100\n",
    "\n",
    "sns.histplot(data=a, x='total_counts', hue='seg_error', bins=bins, palette=palettes, kde=True)\n",
    "plt.xscale('log')\n",
    "plt.savefig(\"a.pdf\")\n",
    "plt.show()\n"
   ]
  },
  {
   "cell_type": "code",
   "execution_count": 42,
   "metadata": {},
   "outputs": [
    {
     "data": {
      "text/plain": [
       "'WSI_Xenium_seg/P2CRC/cut_part3/0/spot_4'"
      ]
     },
     "execution_count": 42,
     "metadata": {},
     "output_type": "execute_result"
    }
   ],
   "source": [
    "adata_save_dir"
   ]
  },
  {
   "cell_type": "code",
   "execution_count": 43,
   "metadata": {},
   "outputs": [
    {
     "name": "stdout",
     "output_type": "stream",
     "text": [
      "Warning: Only 1 genes are selected for Fibroblast.\n",
      "Warning: Only 4 genes are selected for T.\n"
     ]
    },
    {
     "name": "stderr",
     "output_type": "stream",
     "text": [
      "7it [00:00, 1842.72it/s]\n",
      "Training: 100%|██████████| 4000/4000 [00:26<00:00, 148.63it/s]\n"
     ]
    }
   ],
   "source": [
    "import scanpy as sc\n",
    "import pandas as pd\n",
    "import numpy as np\n",
    "\n",
    "from revise.svc import get_cell_contributions\n",
    "from revise.sc_ref import construct_sc_ref, marker_selection, preprocess\n",
    "\n",
    "st_path = f\"{adata_save_dir}/xenium_spot.h5ad\"\n",
    "sc_path = f\"{adata_save_dir}/../real_sc_ref.h5ad\"\n",
    "celltype_col = \"Level1\"\n",
    "\n",
    "adata_sc_ref = sc.read_h5ad(sc_path)\n",
    "adata_st = sc.read_h5ad(st_path)\n",
    "\n",
    "key_type = \"clusters\"\n",
    "if key_type not in adata_sc_ref.obs.columns:\n",
    "    adata_sc_ref.obs[key_type] = adata_sc_ref.obs[celltype_col].astype(str)\n",
    "type_list = sorted(list(adata_sc_ref.obs[key_type].unique().astype(str)))\n",
    "\n",
    "adata_sc_ref, adata_st = preprocess(adata_sc_ref, adata_st)\n",
    "marker_gene_dict = marker_selection(adata_sc_ref, key_type=key_type, return_dict=True, \n",
    "                                                          n_select=50, threshold_p=0.1, threshold_fold=1.2,\n",
    "                                                          q=0.3)\n",
    "marker_gene = []\n",
    "marker_gene_label = []\n",
    "for type_ in type_list:\n",
    "    marker_gene.extend(marker_gene_dict[type_])\n",
    "\n",
    "adata_sc_marker = adata_sc_ref[:, marker_gene]\n",
    "adata_st_marker = adata_st[:, marker_gene]\n",
    "sc_ref = construct_sc_ref(adata_sc_marker, key_type=key_type, type_list = type_list)\n",
    "\n",
    "cell_contributions = get_cell_contributions(adata_st_marker, adata_sc_marker, sc_ref, key_type, device=\"cuda\",\n",
    "                                                cells_on_spot = None, morphology_features = None, feature_list = None,\n",
    "                                                n_epoch=4000, adam_params=None, batch_prior=2,\n",
    "                                               )\n",
    "max_vals = cell_contributions.max(axis=1)\n",
    "b = pd.DataFrame({\n",
    "        \"Confidence\": max_vals,\n",
    "        \"seg_error\": adata_st_marker.obs['seg_error'].values,\n",
    "    })"
   ]
  },
  {
   "cell_type": "code",
   "execution_count": 44,
   "metadata": {},
   "outputs": [
    {
     "name": "stdout",
     "output_type": "stream",
     "text": [
      "Final recovery rates:\n",
      "Diminishing Ratio: 0.6303714493809177\n",
      "Expanding Ratio: 0.9650400582665696\n",
      "Unchanged Ratio: 0.9865719878009923\n"
     ]
    },
    {
     "data": {
      "image/png": "[encoded data removed]",
      "text/plain": [
       "<Figure size 1800x600 with 3 Axes>"
      ]
     },
     "metadata": {},
     "output_type": "display_data"
    }
   ],
   "source": [
    "import matplotlib.pyplot as plt\n",
    "import seaborn as sns\n",
    "\n",
    "b['total_counts'] = adata_st.obs['total_counts']\n",
    "dropout_total_counts = 50\n",
    "swapping_total_counts = 300\n",
    "lower_ts = 0.2\n",
    "upper_ts = 0.8\n",
    "c = b[b[\"total_counts\"] > swapping_total_counts]\n",
    "d = b[b[\"total_counts\"] < swapping_total_counts]\n",
    "\n",
    "# 计算 Diminishing Ratio\n",
    "diminishing_condition_1 = (b['total_counts'] < dropout_total_counts) & (b['seg_error'] == \"Diminishing\")\n",
    "diminishing_condition_2 = (b['total_counts'] > dropout_total_counts) & (b['Confidence'] < lower_ts)  & (b['seg_error'] == \"Diminishing\")\n",
    "diminishing_ratio = (diminishing_condition_1.sum() + diminishing_condition_2.sum()) / (b['seg_error'] == \"Diminishing\").sum()\n",
    "\n",
    "# 计算 Expanding Ratio\n",
    "expanding_condition = (b['total_counts'] > swapping_total_counts) & (b['Confidence'] < upper_ts) & (b['seg_error'] == \"Expanding\")\n",
    "expanding_ratio = expanding_condition.sum() / (b['seg_error'] == \"Expanding\").sum()\n",
    "\n",
    "# 计算 Unchanged Ratio\n",
    "unchanged_condition_1 = (b['total_counts'] > swapping_total_counts) & (b['Confidence'] > upper_ts) & (b['seg_error'] == \"Unchanged\")\n",
    "unchanged_condition_2 = (b['total_counts'] < swapping_total_counts) & (b['Confidence'] > lower_ts) & (b['seg_error'] == \"Unchanged\")\n",
    "unchanged_ratio = (unchanged_condition_1.sum() + unchanged_condition_2.sum()) / (b['seg_error'] == \"Unchanged\").sum()\n",
    "\n",
    "# 打印结果\n",
    "print(\"Final recovery rates:\")\n",
    "print(f\"Diminishing Ratio: {diminishing_ratio}\")\n",
    "print(f\"Expanding Ratio: {expanding_ratio}\")\n",
    "print(f\"Unchanged Ratio: {unchanged_ratio}\")\n",
    "\n",
    "\n",
    "fig, (ax1, ax2, ax3) = plt.subplots(1, 3, figsize=(18, 6))\n",
    "\n",
    "#8ECFC9 RGB:142207201\n",
    "#FFBE7A RGB:255190122\n",
    "#FA7F6F RGB:250127111\n",
    "#82B0D2 RGB:130176210\n",
    "#BEB8DC RGB:190184220\n",
    "#E7DAD2 RGB:231218210\n",
    "#999999\n",
    "palettes = {\n",
    "    'Diminishing': '#8ECFC9',\n",
    "    'Expanding': '#FFBE7A',\n",
    "    'Unchanged': '#82B0D2'\n",
    "}\n",
    "bins=20\n",
    "sns.histplot(data=b, x='Confidence', hue='seg_error', bins=bins, palette=palettes, kde=True, ax=ax1)\n",
    "sns.histplot(data=c, x='Confidence', hue='seg_error', bins=bins, palette=palettes, kde=True, ax=ax2)\n",
    "sns.histplot(data=d, x='Confidence', hue='seg_error', bins=bins, palette=palettes, kde=True, ax=ax3)\n",
    "\n",
    "ax1.set_title('All Cells')\n",
    "ax2.set_title(f'Cells with Total Counts > {swapping_total_counts}')\n",
    "ax3.set_title(f'Cells with Total Counts < {swapping_total_counts}')\n",
    "\n",
    "\n",
    "plt.tight_layout()\n",
    "plt.savefig(\"a.pdf\")\n",
    "plt.show()\n"
   ]
  },
  {
   "cell_type": "code",
   "execution_count": null,
   "metadata": {},
   "outputs": [],
   "source": []
  },
  {
   "cell_type": "code",
   "execution_count": null,
   "metadata": {},
   "outputs": [],
   "source": [
    "# from revise.minor_CF import replace_effect_spots\n",
    "\n",
    "adata_st_orig = sc.read(st_path)\n",
    "no_effect_indices = ( (b['total_counts'] > swapping_total_counts) & (b['Confidence'] > upper_ts) ) | ( (b['total_counts'] < swapping_total_counts) & (b['Confidence'] > lower_ts) )\n",
    "print(f\"no_effect_indices ratio : {no_effect_indices.sum()} / {len(b)}\")\n",
    "adata_st_orig.obs['no_effect'] = no_effect_indices\n",
    "adata_st_orig.obs['Confidence'] = b['Confidence']\n",
    "\n",
    "adata_st_orig = replace_effect_spots(adata_st_orig, \n",
    "                                    celltype_col=\"Level1\", \n",
    "                                    no_effect_col=\"no_effect\",\n",
    "                                    n_search_neighbors=20, confidence_ts=0.8, n_select_num=10 )"
   ]
  },
  {
   "cell_type": "code",
   "execution_count": 97,
   "metadata": {},
   "outputs": [
    {
     "name": "stdout",
     "output_type": "stream",
     "text": [
      "PCC: 0.7670, 0.9291, 0.3593\n",
      "SSIM: 0.7581, 0.9816, 0.0685\n",
      "MSE: 0.0032, 0.0472, 0.0000\n",
      "NRMSE: 5.4477, 130.2502, 0.7974\n"
     ]
    }
   ],
   "source": [
    "from revise.metrics import compute_metric\n",
    "\n",
    "adata_sc_orig = sc.read_h5ad(f\"{adata_save_dir}/../selected_xenium.h5ad\")\n",
    "sc.pp.normalize_total(adata_sc_orig, target_sum=1e4)\n",
    "sc.pp.normalize_total(adata_st_orig, target_sum=1e4)\n",
    "metrics_df = compute_metric(adata_sc_orig, adata_st_orig, \n",
    "                                adata_process=False, gene_list=None,\n",
    "                                normalize=True)"
   ]
  },
  {
   "cell_type": "code",
   "execution_count": null,
   "metadata": {},
   "outputs": [],
   "source": []
  },
  {
   "cell_type": "code",
   "execution_count": null,
   "metadata": {},
   "outputs": [],
   "source": []
  },
  {
   "cell_type": "code",
   "execution_count": 12,
   "metadata": {},
   "outputs": [],
   "source": [
    "import pandas as pd\n",
    "from tqdm import tqdm\n",
    "\n",
    "def get_merge_df(source_path, seg_source_path, part, metric):\n",
    "    iteration = 0\n",
    "    spot_sizes = [1, 2, 3, 4]\n",
    "\n",
    "    merge_df = pd.DataFrame()\n",
    "    for spot_size in tqdm(spot_sizes, desc=\"spot_sizes\"):  \n",
    "        sc_metric_file = f\"{source_path}/{part}/{iteration}/{spot_size}_1_1/sc_metrics_normalized.csv\"\n",
    "        sp_metric_file = f\"{source_path}/{part}/{iteration}/{spot_size}_1_1/sp_metrics_normalized.csv\"\n",
    "        seg_metric_file = f\"{seg_source_path}/{part}/{iteration}/{spot_size}_1_1/seg_metrics.csv\"\n",
    "\n",
    "        try:\n",
    "            sp_metric = pd.read_csv(sp_metric_file, index_col=0)\n",
    "            df_sp = pd.DataFrame([sp_metric[metric].mean()], columns=[\"Value\"])\n",
    "            df_sp['Method'] = \"sp-SVC\"\n",
    "        except FileNotFoundError:\n",
    "            print(f\"sp File not found: {sp_metric_file}\")\n",
    "            df_sp = pd.DataFrame()\n",
    "\n",
    "        try:\n",
    "            sc_metric = pd.read_csv(sc_metric_file, index_col=0)\n",
    "            df_sc = pd.DataFrame([sc_metric[metric].mean()], columns=[\"Value\"])\n",
    "            df_sc['Method'] = \"sc-SVC\"\n",
    "        except FileNotFoundError:\n",
    "            print(f\"sc File not found: {sc_metric_file}\")\n",
    "            df_sc = pd.DataFrame()\n",
    "\n",
    "\n",
    "        try:\n",
    "            seg_metric = pd.read_csv(seg_metric_file, index_col=0)\n",
    "            df_bin2cell = pd.DataFrame([seg_metric[metric].mean()], columns=[\"Value\"])\n",
    "            df_bin2cell['Method'] = \"segmentation\"\n",
    "        except FileNotFoundError:\n",
    "            print(f\"seg File not found: {seg_metric_file}\")\n",
    "            df_bin2cell = pd.DataFrame()\n",
    "        \n",
    "\n",
    "        df = pd.concat([df_bin2cell, df_sc, df_sp])\n",
    "        df['Iteration'] = iteration\n",
    "        df['Spot_size'] = spot_size\n",
    "        df['Part'] = part\n",
    "        df['Metric'] = metric\n",
    "        \n",
    "        merge_df = pd.concat([merge_df, df])\n",
    "    merge_df.reset_index(drop=True, inplace=True)\n",
    "    return merge_df\n",
    "\n",
    "import matplotlib.pyplot as plt\n",
    "def plot_comp_seg(merge_df, metric, part, ax):\n",
    "    unique_spot_sizes = merge_df['Spot_size'].unique()\n",
    "    unique_methods = [\"segmentation\", \"sc-SVC\", \"sp-SVC\"]\n",
    "\n",
    "    # 为每个 Method 分配一个颜色\n",
    "    cmap = plt.cm.get_cmap('tab10', len(unique_methods))\n",
    "    method_colors = {method: cmap(i) for i, method in enumerate(unique_methods)}\n",
    "\n",
    "    # 按 Spot_size 和 Method 排序\n",
    "    merge_df = merge_df.sort_values(by=['Spot_size', 'Method'])\n",
    "\n",
    "    # 计算每个 Spot_size 的位置\n",
    "    spot_size_positions = np.arange(len(unique_spot_sizes)) * (len(unique_methods) + 1)\n",
    "\n",
    "    # 绘制柱状图\n",
    "    for i, spot_size in enumerate(unique_spot_sizes):\n",
    "        for j, method in enumerate(unique_methods):\n",
    "            subset = merge_df[(merge_df['Spot_size'] == spot_size) & (merge_df['Method'] == method)]\n",
    "            if not subset.empty:\n",
    "                x_positions = [spot_size_positions[i] + j] * len(subset)\n",
    "                # 根据 Iteration 调整颜色的透明度\n",
    "                colors = [method_colors[method]] * len(subset)\n",
    "                for x, value, color in zip(x_positions, subset['Value'], colors):\n",
    "                    bottom = 0.5 if metric in [\"PCC\", \"SSIM\"] else 1e-4\n",
    "                    ax.bar(x, value - bottom, color=color, bottom = bottom)\n",
    "\n",
    "    # # 设置横轴刻度和标签\n",
    "    # ax.set_xticks(spot_size_positions)\n",
    "    # ax.set_xticklabels(unique_spot_sizes)\n",
    "    ax.xaxis.set_visible(False)\n",
    "\n",
    "    # # 设置标题和标签\n",
    "    # ax.set_title(f'{part}')\n",
    "    # ax.set_ylabel(metric)\n",
    "\n",
    "    # 设置 Y 轴为对数刻\n",
    "\n",
    "    # 设置 Y 轴范围\n",
    "    if metric == \"PCC\":\n",
    "        ax.set_ylim(0.5, 1.02)\n",
    "    elif metric == \"SSIM\":\n",
    "        ax.set_ylim(0.5, 1.02)\n",
    "    elif metric == \"MSE\":\n",
    "        ax.set_ylim(1e-4, 1e-2)\n",
    "        ax.set_yscale('log')\n",
    "    "
   ]
  },
  {
   "cell_type": "code",
   "execution_count": 9,
   "metadata": {},
   "outputs": [],
   "source": [
    "# error bar\n",
    "import pandas as pd\n",
    "import numpy as np\n",
    "from tqdm import tqdm\n",
    "import matplotlib.pyplot as plt\n",
    "\n",
    "def get_merge_df(source_path, seg_source_path, part, metric):\n",
    "    iteration = 0\n",
    "    spot_sizes = [1, 2, 3, 4]\n",
    "\n",
    "    merge_df = pd.DataFrame()\n",
    "    for spot_size in tqdm(spot_sizes, desc=\"spot_sizes\"):  \n",
    "        sc_metric_file = f\"{source_path}/{part}/{iteration}/{spot_size}_1_1/sc_metrics_normalized.csv\"\n",
    "        sp_metric_file = f\"{source_path}/{part}/{iteration}/{spot_size}_1_1/sp_metrics_normalized.csv\"\n",
    "        seg_metric_file = f\"{seg_source_path}/{part}/{iteration}/{spot_size}_1_1/seg_metrics.csv\"\n",
    "\n",
    "        try:\n",
    "            sp_metric = pd.read_csv(sp_metric_file, index_col=0)\n",
    "            df_sp = pd.DataFrame({\n",
    "                \"Value\": [sp_metric[metric].mean()],\n",
    "                \"SEM\": [sp_metric[metric].sem()]  # Calculate standard error of the mean\n",
    "            })\n",
    "            df_sp['Method'] = \"sp-SVC\"\n",
    "        except FileNotFoundError:\n",
    "            print(f\"sp File not found: {sp_metric_file}\")\n",
    "            df_sp = pd.DataFrame()\n",
    "\n",
    "        try:\n",
    "            sc_metric = pd.read_csv(sc_metric_file, index_col=0)\n",
    "            df_sc = pd.DataFrame({\n",
    "                \"Value\": [sc_metric[metric].mean()],\n",
    "                \"SEM\": [sc_metric[metric].sem()]\n",
    "            })\n",
    "            df_sc['Method'] = \"sc-SVC\"\n",
    "        except FileNotFoundError:\n",
    "            print(f\"sc File not found: {sc_metric_file}\")\n",
    "            df_sc = pd.DataFrame()\n",
    "\n",
    "        try:\n",
    "            seg_metric = pd.read_csv(seg_metric_file, index_col=0)\n",
    "            df_bin2cell = pd.DataFrame({\n",
    "                \"Value\": [seg_metric[metric].mean()],\n",
    "                \"SEM\": [seg_metric[metric].sem()]\n",
    "            })\n",
    "            df_bin2cell['Method'] = \"segmentation\"\n",
    "        except FileNotFoundError:\n",
    "            print(f\"seg File not found: {seg_metric_file}\")\n",
    "            df_bin2cell = pd.DataFrame()\n",
    "        \n",
    "        df = pd.concat([df_bin2cell, df_sc, df_sp])\n",
    "        df['Iteration'] = iteration\n",
    "        df['Spot_size'] = spot_size\n",
    "        df['Part'] = part\n",
    "        df['Metric'] = metric\n",
    "        \n",
    "        merge_df = pd.concat([merge_df, df])\n",
    "    merge_df.reset_index(drop=True, inplace=True)\n",
    "    return merge_df\n",
    "\n",
    "def plot_comp_seg(merge_df, metric, part, ax):\n",
    "    unique_spot_sizes = merge_df['Spot_size'].unique()\n",
    "    unique_methods = [\"segmentation\", \"sc-SVC\", \"sp-SVC\"]\n",
    "\n",
    "    # 为每个 Method 分配一个颜色\n",
    "    cmap = plt.cm.get_cmap('tab10', len(unique_methods))\n",
    "    method_colors = {method: cmap(i) for i, method in enumerate(unique_methods)}\n",
    "\n",
    "    # 按 Spot_size 和 Method 排序\n",
    "    merge_df = merge_df.sort_values(by=['Spot_size', 'Method'])\n",
    "\n",
    "    # 计算每个 Spot_size 的位置\n",
    "    bar_width = 0.25  # Width of each bar\n",
    "    spot_size_positions = np.arange(len(unique_spot_sizes)) * (len(unique_methods) * bar_width + 0.2)\n",
    "\n",
    "    # 绘制柱状图并添加误差线\n",
    "    for i, spot_size in enumerate(unique_spot_sizes):\n",
    "        for j, method in enumerate(unique_methods):\n",
    "            subset = merge_df[(merge_df['Spot_size'] == spot_size) & (merge_df['Method'] == method)]\n",
    "            if not subset.empty:\n",
    "                x_position = spot_size_positions[i] + j * bar_width\n",
    "                bottom = 0.5 if metric in [\"PCC\", \"SSIM\"] else 1e-4\n",
    "                value = subset['Value'].iloc[0] - bottom\n",
    "                sem = subset['SEM'].iloc[0]\n",
    "                ax.bar(x_position, value, yerr=sem, color=method_colors[method], \n",
    "                       bottom=bottom, width=bar_width, capsize=3, error_kw={'ecolor': 'black'})\n",
    "\n",
    "    # # 设置横轴刻度和标签\n",
    "    # ax.set_xticks(spot_size_positions + bar_width * (len(unique_methods) - 1) / 2)\n",
    "    # ax.set_xticklabels(unique_spot_sizes)\n",
    "    ax.xaxis.set_visible(False)\n",
    "\n",
    "    # # 设置标题和标签\n",
    "    # ax.set_title(f'{part}')\n",
    "    # ax.set_ylabel(metric)\n",
    "\n",
    "    # 设置 Y 轴范围和刻度\n",
    "    if metric == \"PCC\":\n",
    "        ax.set_ylim(0.5, 1.02)\n",
    "    elif metric == \"SSIM\":\n",
    "        ax.set_ylim(0.5, 1.02)\n",
    "    elif metric == \"MSE\":\n",
    "        ax.set_ylim(1e-4, 1e-2)\n",
    "        ax.set_yscale('log')"
   ]
  },
  {
   "cell_type": "code",
   "execution_count": 10,
   "metadata": {},
   "outputs": [
    {
     "name": "stderr",
     "output_type": "stream",
     "text": [
      "spot_sizes: 100%|██████████| 4/4 [00:00<00:00, 223.30it/s]\n",
      "/tmp/ipykernel_3432950/1559976927.py:65: MatplotlibDeprecationWarning: The get_cmap function was deprecated in Matplotlib 3.7 and will be removed two minor releases later. Use ``matplotlib.colormaps[name]`` or ``matplotlib.colormaps.get_cmap(obj)`` instead.\n",
      "  cmap = plt.cm.get_cmap('tab10', len(unique_methods))\n",
      "spot_sizes: 100%|██████████| 4/4 [00:00<00:00, 235.06it/s]"
     ]
    },
    {
     "name": "stderr",
     "output_type": "stream",
     "text": [
      "\n",
      "/tmp/ipykernel_3432950/1559976927.py:65: MatplotlibDeprecationWarning: The get_cmap function was deprecated in Matplotlib 3.7 and will be removed two minor releases later. Use ``matplotlib.colormaps[name]`` or ``matplotlib.colormaps.get_cmap(obj)`` instead.\n",
      "  cmap = plt.cm.get_cmap('tab10', len(unique_methods))\n",
      "spot_sizes: 100%|██████████| 4/4 [00:00<00:00, 236.87it/s]\n",
      "/tmp/ipykernel_3432950/1559976927.py:65: MatplotlibDeprecationWarning: The get_cmap function was deprecated in Matplotlib 3.7 and will be removed two minor releases later. Use ``matplotlib.colormaps[name]`` or ``matplotlib.colormaps.get_cmap(obj)`` instead.\n",
      "  cmap = plt.cm.get_cmap('tab10', len(unique_methods))\n",
      "spot_sizes: 100%|██████████| 4/4 [00:00<00:00, 236.37it/s]\n",
      "/tmp/ipykernel_3432950/1559976927.py:65: MatplotlibDeprecationWarning: The get_cmap function was deprecated in Matplotlib 3.7 and will be removed two minor releases later. Use ``matplotlib.colormaps[name]`` or ``matplotlib.colormaps.get_cmap(obj)`` instead.\n",
      "  cmap = plt.cm.get_cmap('tab10', len(unique_methods))\n",
      "spot_sizes: 100%|██████████| 4/4 [00:00<00:00, 236.78it/s]\n",
      "/tmp/ipykernel_3432950/1559976927.py:65: MatplotlibDeprecationWarning: The get_cmap function was deprecated in Matplotlib 3.7 and will be removed two minor releases later. Use ``matplotlib.colormaps[name]`` or ``matplotlib.colormaps.get_cmap(obj)`` instead.\n",
      "  cmap = plt.cm.get_cmap('tab10', len(unique_methods))\n",
      "spot_sizes: 100%|██████████| 4/4 [00:00<00:00, 235.85it/s]\n",
      "/tmp/ipykernel_3432950/1559976927.py:65: MatplotlibDeprecationWarning: The get_cmap function was deprecated in Matplotlib 3.7 and will be removed two minor releases later. Use ``matplotlib.colormaps[name]`` or ``matplotlib.colormaps.get_cmap(obj)`` instead.\n",
      "  cmap = plt.cm.get_cmap('tab10', len(unique_methods))\n",
      "spot_sizes: 100%|██████████| 4/4 [00:00<00:00, 234.99it/s]\n",
      "/tmp/ipykernel_3432950/1559976927.py:65: MatplotlibDeprecationWarning: The get_cmap function was deprecated in Matplotlib 3.7 and will be removed two minor releases later. Use ``matplotlib.colormaps[name]`` or ``matplotlib.colormaps.get_cmap(obj)`` instead.\n",
      "  cmap = plt.cm.get_cmap('tab10', len(unique_methods))\n",
      "spot_sizes: 100%|██████████| 4/4 [00:00<00:00, 235.36it/s]\n",
      "/tmp/ipykernel_3432950/1559976927.py:65: MatplotlibDeprecationWarning: The get_cmap function was deprecated in Matplotlib 3.7 and will be removed two minor releases later. Use ``matplotlib.colormaps[name]`` or ``matplotlib.colormaps.get_cmap(obj)`` instead.\n",
      "  cmap = plt.cm.get_cmap('tab10', len(unique_methods))\n",
      "spot_sizes: 100%|██████████| 4/4 [00:00<00:00, 234.05it/s]\n",
      "/tmp/ipykernel_3432950/1559976927.py:65: MatplotlibDeprecationWarning: The get_cmap function was deprecated in Matplotlib 3.7 and will be removed two minor releases later. Use ``matplotlib.colormaps[name]`` or ``matplotlib.colormaps.get_cmap(obj)`` instead.\n",
      "  cmap = plt.cm.get_cmap('tab10', len(unique_methods))\n"
     ]
    },
    {
     "data": {
      "image/png": "[encoded data removed]",
      "text/plain": [
       "<Figure size 1500x900 with 9 Axes>"
      ]
     },
     "metadata": {},
     "output_type": "display_data"
    }
   ],
   "source": [
    "import matplotlib.pyplot as plt\n",
    "\n",
    "# 假设你已经定义了 get_merge_df 和 plot_comp_bin2cell 函数\n",
    "source_path = \"/home/wys/Sim2Real-ST/REVISE/0_revise_results_s/P2CRC\"\n",
    "source_path = \"/home/wys/Sim2Real-ST/REVISE/0_segmentation_results/P2CRC\"\n",
    "seg_source_path = \"/home/wys/Sim2Real-ST/REVISE/0_segmentation_results/P2CRC\"\n",
    "\n",
    "parts = [\"part3\", \"part1\", \"part2\"]\n",
    "metrics = [\"PCC\", \"SSIM\", \"MSE\"]\n",
    "\n",
    "# 创建一个 3x3 的子图布局\n",
    "fig, axes = plt.subplots(3, 3, figsize=(15, 9))\n",
    "\n",
    "# 遍历 parts 和 metrics\n",
    "for i, part in enumerate(parts):\n",
    "    for j, metric in enumerate(metrics):\n",
    "        # 获取数据\n",
    "        merge_df = get_merge_df(source_path, seg_source_path, part, metric)\n",
    "        \n",
    "        # 在对应的子图上绘制图形\n",
    "        ax = axes[j, i]\n",
    "        plot_comp_seg(merge_df, metric, part, ax=ax)\n",
    "\n",
    "# 调整布局\n",
    "plt.tight_layout()\n",
    "plt.savefig(\"analysis_minor_CF_seg.pdf\", dpi=300)\n",
    "plt.show()"
   ]
  },
  {
   "cell_type": "markdown",
   "metadata": {},
   "source": [
    "## 8um bin"
   ]
  },
  {
   "cell_type": "code",
   "execution_count": 8,
   "metadata": {},
   "outputs": [
    {
     "name": "stderr",
     "output_type": "stream",
     "text": [
      "Part:   0%|          | 0/3 [00:00<?, ?it/s]/home/wys/miniconda3/envs/python3.10/lib/python3.10/site-packages/scipy/sparse/_index.py:142: SparseEfficiencyWarning: Changing the sparsity structure of a csr_matrix is expensive. lil_matrix is more efficient.\n",
      "  self._set_arrayXarray_sparse(i, j, x)\n"
     ]
    },
    {
     "name": "stdout",
     "output_type": "stream",
     "text": [
      "Segmentation: 8, Part: part1\n"
     ]
    },
    {
     "name": "stderr",
     "output_type": "stream",
     "text": [
      "/home/wys/miniconda3/envs/python3.10/lib/python3.10/site-packages/scanpy/preprocessing/_normalization.py:208: UserWarning: Received a view of an AnnData. Making a copy.\n",
      "  view_to_actual(adata)\n",
      "Segmentation: 100%|██████████| 1/1 [00:08<00:00,  8.35s/it]\n",
      "Part:  33%|███▎      | 1/3 [00:08<00:16,  8.43s/it]"
     ]
    },
    {
     "name": "stdout",
     "output_type": "stream",
     "text": [
      "PCC: 0.7254, 0.9434, 0.1952\n",
      "SSIM: 0.7367, 0.9615, 0.1730\n",
      "MSE: 0.0030, 0.0307, 0.0001\n",
      "NRMSE: 6.7378, 221.8358, 0.6389\n"
     ]
    },
    {
     "name": "stderr",
     "output_type": "stream",
     "text": []
    },
    {
     "name": "stdout",
     "output_type": "stream",
     "text": [
      "Segmentation: 8, Part: part2\n"
     ]
    },
    {
     "name": "stderr",
     "output_type": "stream",
     "text": [
      "/home/wys/miniconda3/envs/python3.10/lib/python3.10/site-packages/scipy/sparse/_index.py:142: SparseEfficiencyWarning: Changing the sparsity structure of a csr_matrix is expensive. lil_matrix is more efficient.\n",
      "  self._set_arrayXarray_sparse(i, j, x)\n",
      "/home/wys/miniconda3/envs/python3.10/lib/python3.10/site-packages/scanpy/preprocessing/_normalization.py:208: UserWarning: Received a view of an AnnData. Making a copy.\n",
      "  view_to_actual(adata)\n",
      "Segmentation: 100%|██████████| 1/1 [00:07<00:00,  7.30s/it]\n",
      "Part:  67%|██████▋   | 2/3 [00:15<00:07,  7.78s/it]"
     ]
    },
    {
     "name": "stdout",
     "output_type": "stream",
     "text": [
      "PCC: 0.7639, 0.9304, 0.1241\n",
      "SSIM: 0.7334, 0.9587, 0.2220\n",
      "MSE: 0.0030, 0.0326, 0.0001\n",
      "NRMSE: 6.9929, 556.9588, 0.7485\n"
     ]
    },
    {
     "name": "stderr",
     "output_type": "stream",
     "text": []
    },
    {
     "name": "stdout",
     "output_type": "stream",
     "text": [
      "Segmentation: 8, Part: part3\n"
     ]
    },
    {
     "name": "stderr",
     "output_type": "stream",
     "text": [
      "/home/wys/miniconda3/envs/python3.10/lib/python3.10/site-packages/scipy/sparse/_index.py:142: SparseEfficiencyWarning: Changing the sparsity structure of a csr_matrix is expensive. lil_matrix is more efficient.\n",
      "  self._set_arrayXarray_sparse(i, j, x)\n",
      "/home/wys/miniconda3/envs/python3.10/lib/python3.10/site-packages/scanpy/preprocessing/_normalization.py:208: UserWarning: Received a view of an AnnData. Making a copy.\n",
      "  view_to_actual(adata)\n",
      "Segmentation: 100%|██████████| 1/1 [00:14<00:00, 14.20s/it]\n",
      "Part: 100%|██████████| 3/3 [00:29<00:00, 10.00s/it]"
     ]
    },
    {
     "name": "stdout",
     "output_type": "stream",
     "text": [
      "PCC: 0.6828, 0.9013, 0.1546\n",
      "SSIM: 0.6891, 0.9579, 0.0676\n",
      "MSE: 0.0037, 0.0479, 0.0001\n",
      "NRMSE: 8.1136, 296.2344, 0.8886\n"
     ]
    },
    {
     "name": "stderr",
     "output_type": "stream",
     "text": [
      "\n"
     ]
    }
   ],
   "source": [
    "import os\n",
    "import shutil\n",
    "import pandas as pd\n",
    "import numpy as np\n",
    "import scanpy as sc\n",
    "from tqdm import tqdm\n",
    "from revise.metrics import compute_metric\n",
    "\n",
    "\n",
    "save_dir = \"0_segmentation_results\"\n",
    "sn = \"Xenium\"\n",
    "patient_id = \"P2CRC\"\n",
    "iteration=0\n",
    "\n",
    "parts = [\"part1\", \"part2\", \"part3\"]\n",
    "segs = [8]\n",
    "\n",
    "swapping_prob=0.3\n",
    "\n",
    "\n",
    "for part in tqdm(parts, desc=\"Part\"):\n",
    "    \n",
    "    input_dir = f\"WSI_{sn}/{patient_id}/cut_{part}/{iteration}\"\n",
    "    sc_path = f\"{input_dir}/selected_xenium.h5ad\"\n",
    "\n",
    "    shutil.copy(sc_path, f\"WSI_{sn}_seg/{patient_id}/cut_{part}/{iteration}/selected_xenium.h5ad\")\n",
    "\n",
    "    for seg in tqdm(segs, desc=\"Segmentation\"):\n",
    "        dropout_portion, swapping_portion = 0.1, 0.1\n",
    "\n",
    "        print(f\"Segmentation: {seg}, Part: {part}\")\n",
    "        result_dir=f\"{save_dir}/{patient_id}/{part}/{iteration}/{seg}_1_1\"\n",
    "        os.makedirs(result_dir, exist_ok=True)\n",
    "        \n",
    "        adata_save_dir = f\"WSI_{sn}_seg/{patient_id}/cut_{part}/{iteration}/spot_{seg}\"\n",
    "        os.makedirs(adata_save_dir, exist_ok=True)\n",
    "        \n",
    "        sc_adata = sc.read(sc_path)\n",
    "        seg_adata = sc.read(f\"{adata_save_dir}/xenium_spot.h5ad\")\n",
    "        \n",
    "        gene_names = seg_adata.var_names.intersection(sc_adata.var_names)\n",
    "        sc_list = seg_adata.obs['cell_id'].values\n",
    "        sc_adata.obs.index = sc_adata.obs['cell_id'].values\n",
    "        sc_adata = sc_adata[sc_list, gene_names]\n",
    "        seg_adata = seg_adata[:, gene_names]\n",
    "\n",
    "        sc.pp.normalize_total(seg_adata, target_sum=1e4)\n",
    "        sc.pp.normalize_total(sc_adata, target_sum=1e4)\n",
    "        metrics_df = compute_metric(sc_adata, seg_adata, \n",
    "                            adata_process=False, gene_list=None,\n",
    "                            normalize=True)\n",
    "        metrics_df.to_csv(f\"{result_dir}/seg_metrics.csv\")"
   ]
  },
  {
   "cell_type": "code",
   "execution_count": null,
   "metadata": {},
   "outputs": [],
   "source": [
    "ax.xaxis.set_visible(False)"
   ]
  },
  {
   "cell_type": "code",
   "execution_count": 10,
   "metadata": {},
   "outputs": [
    {
     "name": "stderr",
     "output_type": "stream",
     "text": [
      "spot_sizes: 100%|██████████| 1/1 [00:00<00:00, 199.13it/s]\n",
      "spot_sizes: 100%|██████████| 1/1 [00:00<00:00, 233.69it/s]\n",
      "spot_sizes: 100%|██████████| 1/1 [00:00<00:00, 233.46it/s]\n",
      "/tmp/ipykernel_3553173/697448283.py:63: MatplotlibDeprecationWarning: The get_cmap function was deprecated in Matplotlib 3.7 and will be removed two minor releases later. Use ``matplotlib.colormaps[name]`` or ``matplotlib.colormaps.get_cmap(obj)`` instead.\n",
      "  cmap = plt.cm.get_cmap('tab10', len(unique_methods))\n",
      "spot_sizes: 100%|██████████| 1/1 [00:00<00:00, 221.13it/s]\n",
      "spot_sizes: 100%|██████████| 1/1 [00:00<00:00, 233.44it/s]\n",
      "spot_sizes: 100%|██████████| 1/1 [00:00<00:00, 228.14it/s]\n",
      "/tmp/ipykernel_3553173/697448283.py:63: MatplotlibDeprecationWarning: The get_cmap function was deprecated in Matplotlib 3.7 and will be removed two minor releases later. Use ``matplotlib.colormaps[name]`` or ``matplotlib.colormaps.get_cmap(obj)`` instead.\n",
      "  cmap = plt.cm.get_cmap('tab10', len(unique_methods))\n",
      "spot_sizes: 100%|██████████| 1/1 [00:00<00:00, 221.08it/s]\n",
      "spot_sizes: 100%|██████████| 1/1 [00:00<00:00, 232.01it/s]\n",
      "spot_sizes: 100%|██████████| 1/1 [00:00<00:00, 234.63it/s]\n",
      "/tmp/ipykernel_3553173/697448283.py:63: MatplotlibDeprecationWarning: The get_cmap function was deprecated in Matplotlib 3.7 and will be removed two minor releases later. Use ``matplotlib.colormaps[name]`` or ``matplotlib.colormaps.get_cmap(obj)`` instead.\n",
      "  cmap = plt.cm.get_cmap('tab10', len(unique_methods))\n"
     ]
    },
    {
     "data": {
      "image/png": "[encoded data removed]",
      "text/plain": [
       "<Figure size 400x900 with 3 Axes>"
      ]
     },
     "metadata": {},
     "output_type": "display_data"
    }
   ],
   "source": [
    "import pandas as pd\n",
    "import numpy as np\n",
    "from tqdm import tqdm\n",
    "import matplotlib.pyplot as plt\n",
    "\n",
    "def get_merge_df(source_path, seg_source_path, part, metric):\n",
    "    iteration = 0\n",
    "    spot_sizes = [8]\n",
    "\n",
    "    merge_df = pd.DataFrame()\n",
    "    for spot_size in tqdm(spot_sizes, desc=\"spot_sizes\"):  \n",
    "        sc_metric_file = f\"{source_path}/{part}/{iteration}/{spot_size}_1_1/sc_metrics_normalized.csv\"\n",
    "        sp_metric_file = f\"{source_path}/{part}/{iteration}/{spot_size}_1_1/sp_metrics_normalized.csv\"\n",
    "        seg_metric_file = f\"{seg_source_path}/{part}/{iteration}/{spot_size}_1_1/seg_metrics.csv\"\n",
    "\n",
    "        try:\n",
    "            sp_metric = pd.read_csv(sp_metric_file, index_col=0)\n",
    "            df_sp = pd.DataFrame({\n",
    "                \"Value\": [sp_metric[metric].mean()],\n",
    "                \"SEM\": [sp_metric[metric].sem()]\n",
    "            })\n",
    "            df_sp['Method'] = \"sp-SVC\"\n",
    "        except FileNotFoundError:\n",
    "            print(f\"sp File not found: {sp_metric_file}\")\n",
    "            df_sp = pd.DataFrame()\n",
    "\n",
    "        try:\n",
    "            sc_metric = pd.read_csv(sc_metric_file, index_col=0)\n",
    "            df_sc = pd.DataFrame({\n",
    "                \"Value\": [sc_metric[metric].mean()],\n",
    "                \"SEM\": [sc_metric[metric].sem()]\n",
    "            })\n",
    "            df_sc['Method'] = \"sc-SVC\"\n",
    "        except FileNotFoundError:\n",
    "            print(f\"sc File not found: {sc_metric_file}\")\n",
    "            df_sc = pd.DataFrame()\n",
    "\n",
    "        try:\n",
    "            seg_metric = pd.read_csv(seg_metric_file, index_col=0)\n",
    "            df_bin2cell = pd.DataFrame({\n",
    "                \"Value\": [seg_metric[metric].mean()],\n",
    "                \"SEM\": [seg_metric[metric].sem()]\n",
    "            })\n",
    "            df_bin2cell['Method'] = \"segmentation\"\n",
    "        except FileNotFoundError:\n",
    "            print(f\"seg File not found: {seg_metric_file}\")\n",
    "            df_bin2cell = pd.DataFrame()\n",
    "        \n",
    "        df = pd.concat([df_bin2cell, df_sc, df_sp])\n",
    "        df['Iteration'] = iteration\n",
    "        df['Spot_size'] = spot_size\n",
    "        df['Part'] = part\n",
    "        df['Metric'] = metric\n",
    "        \n",
    "        merge_df = pd.concat([merge_df, df])\n",
    "    merge_df.reset_index(drop=True, inplace=True)\n",
    "    return merge_df\n",
    "\n",
    "def plot_comp_seg(merge_df, metric, parts, ax):\n",
    "    unique_methods = [\"segmentation\", \"sc-SVC\", \"sp-SVC\"]\n",
    "\n",
    "    # 为每个 Method 分配一个颜色\n",
    "    cmap = plt.cm.get_cmap('tab10', len(unique_methods))\n",
    "    method_colors = {method: cmap(i) for i, method in enumerate(unique_methods)}\n",
    "\n",
    "    # 按 Part 和 Method 排序\n",
    "    merge_df = merge_df.sort_values(by=['Part', 'Method'])\n",
    "\n",
    "    # 计算每个 Part 的位置\n",
    "    part_positions = np.arange(len(parts)) * (len(unique_methods) + 1)\n",
    "\n",
    "    # 绘制柱状图和误差线\n",
    "    for i, part in enumerate(parts):\n",
    "        for j, method in enumerate(unique_methods):\n",
    "            subset = merge_df[(merge_df['Part'] == part) & (merge_df['Method'] == method)]\n",
    "            if not subset.empty:\n",
    "                x_position = part_positions[i] + j\n",
    "                value = subset['Value'].iloc[0]\n",
    "                sem = subset['SEM'].iloc[0]\n",
    "                color = method_colors[method]\n",
    "                bottom = 0.5 if metric in [\"PCC\", \"SSIM\"] else 1e-4\n",
    "                ax.bar(x_position, value - bottom, color=color, bottom=bottom)\n",
    "                # Plot error bars at the actual value (not offset by bottom)\n",
    "                ax.errorbar(x_position, value, yerr=sem, fmt='none', \n",
    "                           ecolor='black', capsize=3, elinewidth=1, capthick=1)\n",
    "\n",
    "    ax.xaxis.set_visible(False)\n",
    "\n",
    "    # 设置 Y 轴范围，增加一些空间以确保误差线可见\n",
    "    if metric == \"PCC\":\n",
    "        ax.set_ylim(0.5, 1.05)\n",
    "    elif metric == \"SSIM\":\n",
    "        ax.set_ylim(0.5, 1.05)\n",
    "    elif metric == \"MSE\":\n",
    "        ax.set_ylim(1e-4, 1e-2)\n",
    "        ax.set_yscale('log')\n",
    "\n",
    "# 路径和参数\n",
    "source_path = \"/home/wys/Sim2Real-ST/REVISE/0_segmentation_results/P2CRC\"\n",
    "seg_source_path = \"/home/wys/Sim2Real-ST/REVISE/0_segmentation_results/P2CRC\"\n",
    "\n",
    "parts = [\"part3\", \"part1\", \"part2\"]\n",
    "metrics = [\"PCC\", \"SSIM\", \"MSE\"]\n",
    "\n",
    "# 创建一个 1x3 的子图布局\n",
    "fig, axes = plt.subplots(3, 1, figsize=(4, 9))\n",
    "\n",
    "# 遍历 metrics\n",
    "for j, metric in enumerate(metrics):\n",
    "    # 获取所有 parts 的数据\n",
    "    merge_df = pd.DataFrame()\n",
    "    for part in parts:\n",
    "        df = get_merge_df(source_path, seg_source_path, part, metric)\n",
    "        merge_df = pd.concat([merge_df, df])\n",
    "    \n",
    "    # 在对应的子图上绘制图形\n",
    "    ax = axes[j]\n",
    "    plot_comp_seg(merge_df, metric, parts, ax=ax)\n",
    "\n",
    "# 调整布局\n",
    "plt.tight_layout()\n",
    "plt.savefig(\"analysis_minor_CF_bin8.pdf\", dpi=300)\n",
    "plt.show()"
   ]
  },
  {
   "cell_type": "code",
   "execution_count": null,
   "metadata": {},
   "outputs": [],
   "source": []
  },
  {
   "cell_type": "code",
   "execution_count": null,
   "metadata": {},
   "outputs": [],
   "source": []
  },
  {
   "cell_type": "code",
   "execution_count": null,
   "metadata": {},
   "outputs": [],
   "source": []
  },
  {
   "cell_type": "code",
   "execution_count": null,
   "metadata": {},
   "outputs": [],
   "source": []
  }
 ],
 "metadata": {
  "kernelspec": {
   "display_name": "python3.10",
   "language": "python",
   "name": "python3"
  },
  "language_info": {
   "codemirror_mode": {
    "name": "ipython",
    "version": 3
   },
   "file_extension": ".py",
   "mimetype": "text/x-python",
   "name": "python",
   "nbconvert_exporter": "python",
   "pygments_lexer": "ipython3",
   "version": "3.10.14"
  }
 },
 "nbformat": 4,
 "nbformat_minor": 2
}
