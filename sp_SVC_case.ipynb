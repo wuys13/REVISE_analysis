{
 "cells": [
  {
   "cell_type": "code",
   "execution_count": 1,
   "metadata": {},
   "outputs": [
    {
     "name": "stderr",
     "output_type": "stream",
     "text": [
      "/home/wys/miniconda3/envs/python3.10/lib/python3.10/importlib/__init__.py:126: FutureWarning: The legacy Dask DataFrame implementation is deprecated and will be removed in a future version. Set the configuration option `dataframe.query-planning` to `True` or None to enable the new Dask Dataframe implementation and silence this warning.\n",
      "  return _bootstrap._gcd_import(name[level:], package, level)\n",
      "/home/wys/miniconda3/envs/python3.10/lib/python3.10/site-packages/anndata/utils.py:429: FutureWarning: Importing read_text from `anndata` is deprecated. Import anndata.io.read_text instead.\n",
      "  warnings.warn(msg, FutureWarning)\n"
     ]
    }
   ],
   "source": [
    "import os\n",
    "\n",
    "import scanpy as sc\n",
    "import pandas as pd\n",
    "import numpy as np\n",
    "\n",
    "from tqdm import tqdm\n",
    "from spatial_metric import spatial_gene_autocorr, plot_compare_spatial_autocorr, get_sampeled_adata, run_cluster_plot\n"
   ]
  },
  {
   "cell_type": "code",
   "execution_count": 2,
   "metadata": {},
   "outputs": [],
   "source": [
    "resolutions = [0.3, 0.5, 0.8]\n",
    "# resolutions = [0.1, 0.3, 0.5]\n",
    "patient_ids = [\"P1CRC\", \"P2CRC\", \"P5CRC\"]\n",
    "patient_ids = [\"P2CRC\"]\n",
    "data_type = \"HD\"\n",
    "cell_type_col = \"Level1\"\n",
    "\n",
    "sample_size = 30000\n",
    "\n",
    "raw_data_path = \"/home/wys/Sim2Real-ST/REVISE_data_process/raw_data\"\n",
    "svc_data_path = \"../REVISE/results/HD\"\n",
    "save_dir = \"output/sp_SVC_case\"\n"
   ]
  },
  {
   "cell_type": "code",
   "execution_count": 3,
   "metadata": {},
   "outputs": [
    {
     "name": "stderr",
     "output_type": "stream",
     "text": [
      "Processing patients:   0%|          | 0/1 [00:00<?, ?it/s]"
     ]
    },
    {
     "name": "stdout",
     "output_type": "stream",
     "text": [
      "Processing original data for P2CRC_HD\n",
      "Sampling 30000 cells from 545842 total cells.\n",
      "Level1\n",
      "Tumor                    12884\n",
      "Fibroblast                3830\n",
      "Plasma                    2941\n",
      "Intestinal Epithelial     2742\n",
      "SMC                       2304\n",
      "Mono/Macro                2251\n",
      "Vascular EC                996\n",
      "Pericyte                   677\n",
      "DC                         526\n",
      "T                          522\n",
      "Lymphatic EC               151\n",
      "Mast                        65\n",
      "Gliacyte                    63\n",
      "B                           48\n",
      "Name: count, dtype: int64\n",
      "Highly variable genes filtering for 16792 genes.\n",
      "Number of clusters for leiden resolution 0.3: 9\n",
      "Number of clusters for leiden resolution 0.5: 15\n",
      "Number of clusters for leiden resolution 0.8: 17\n",
      "   resolution       ARI       NMI  cluster_num\n",
      "0         0.3  0.292623  0.529706            9\n",
      "0         0.5  0.188230  0.490299           15\n",
      "0         0.8  0.196855  0.503832           17\n"
     ]
    }
   ],
   "source": [
    "for patient_id in tqdm(patient_ids, desc=\"Processing patients\"):\n",
    "            \n",
    "    save_path = f\"{save_dir}/{patient_id}_{data_type}\"\n",
    "    os.makedirs(save_path, exist_ok=True)\n",
    "\n",
    "\n",
    "    print(f\"Processing original data for {patient_id}_{data_type}\")\n",
    "    adata_sp = sc.read(f\"{raw_data_path}/{patient_id}_{data_type}.h5ad\")\n",
    "    adata_sp = adata_sp[adata_sp.obs[cell_type_col] != \"Unknown\"].copy()\n",
    "\n",
    "    if sample_size is not None:\n",
    "        adata_sp = get_sampeled_adata(adata_sp, sample_size=sample_size, seed=0)\n",
    "        print(adata_sp.obs[cell_type_col].value_counts())\n",
    "\n",
    "    run_cluster_plot(adata_sp, f\"{save_path}/original\", \n",
    "                        resolutions = resolutions, \n",
    "                        cell_type_col = \"Level1\") \n",
    "    moranI_sp, gearyC_sp, _, _ = spatial_gene_autocorr(adata_sp, cell_type_col = \"Level1\", save_dir = f\"{save_path}/original\")\n",
    "    \n",
    "\n",
    "    print(f\"Processing SVC data for {patient_id}_{data_type}\")\n",
    "    adata_sp_svc = sc.read(f\"{svc_data_path}/{patient_id}/{patient_id}_{data_type}_pot_REVISE.h5ad\")\n",
    "    adata_sp_svc.X = adata_sp_svc.layers[\"ot_smooth\"]\n",
    "    # adata_sp_svc.X.data = np.round(adata_sp_svc.X.data, decimals=0)\n",
    "    adata_sp_svc = adata_sp_svc[adata_sp_svc.obs[cell_type_col]!= \"Unknown\"].copy()\n",
    "    \n",
    "    if sample_size is not None:\n",
    "        adata_sp_svc = get_sampeled_adata(adata_sp_svc, sample_size=sample_size, seed=0)\n",
    "        print(adata_sp.obs[cell_type_col].value_counts())\n",
    "\n",
    "    run_cluster_plot(adata_sp_svc, f\"{save_path}/sp_SVC\", \n",
    "                        resolutions = resolutions,\n",
    "                        cell_type_col = \"Level1\")\n",
    "    moranI_sp_svc, gearyC_sp_svc, _, _ = spatial_gene_autocorr(adata_sp_svc, cell_type_col = \"Level1\", \n",
    "                                                                save_dir = f\"{save_path}/sp_SVC\")\n",
    "    \n",
    "    plot_compare_spatial_autocorr(moranI_sp_svc, moranI_sp, save_dir = save_path, mode = \"moran\")\n",
    "    plot_compare_spatial_autocorr(gearyC_sp_svc, gearyC_sp, save_dir = save_path, mode = \"geary\")"
   ]
  },
  {
   "cell_type": "code",
   "execution_count": null,
   "metadata": {},
   "outputs": [],
   "source": []
  },
  {
   "cell_type": "code",
   "execution_count": null,
   "metadata": {},
   "outputs": [],
   "source": []
  }
 ],
 "metadata": {
  "kernelspec": {
   "display_name": "python3.10",
   "language": "python",
   "name": "python3"
  },
  "language_info": {
   "codemirror_mode": {
    "name": "ipython",
    "version": 3
   },
   "file_extension": ".py",
   "mimetype": "text/x-python",
   "name": "python",
   "nbconvert_exporter": "python",
   "pygments_lexer": "ipython3",
   "version": "3.10.14"
  }
 },
 "nbformat": 4,
 "nbformat_minor": 2
}
